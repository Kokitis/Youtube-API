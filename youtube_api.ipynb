{
 "cells": [
  {
   "cell_type": "code",
   "execution_count": 1,
   "metadata": {
    "collapsed": true
   },
   "outputs": [
    {
     "name": "stdout",
     "output_type": "stream",
     "text": [
      "['DATA_FOLDER',\n '__builtins__',\n '__cached__',\n '__doc__',\n '__file__',\n '__loader__',\n '__name__',\n '__package__',\n '__spec__',\n 'github_folder',\n 'os',\n 'sys',\n 'tabletools',\n 'timetools',\n 'youtube_api_key',\n 'youtube_subscriptions']\n"
     ]
    },
    {
     "name": "stdout",
     "output_type": "stream",
     "text": [
      "<class 'requests.models.Response'>\nFinished!\n"
     ]
    }
   ],
   "source": [
    "from package import *\n",
    "\n",
    "import requests\n",
    "from pprint import pprint\n",
    "from functools import partial\n",
    "\n",
    "pprint = partial(pprint, width = 200)\n",
    "\n",
    "\n",
    "class CallApi:\n",
    "\tendpoints = {\n",
    "\t\t'videos':        'https://www.googleapis.com/youtube/v3/videos',\n",
    "\t\t'searchs':       'https://www.googleapis.com/youtube/v3/search',\n",
    "\t\t'channels':      'https://www.googleapis.com/youtube/v3/channels',\n",
    "\t\t'playlists':     'https://www.googleapis.com/youtube/v3/playlists',\n",
    "\t\t'playlistItems': 'https://www.googleapis.com/youtube/v3/playlistItems',\n",
    "\t\t'activities':    'https://www.googleapis.com/youtube/v3/activities',\n",
    "\t\t'watch':         'http://www.youtube.com/watch'\n",
    "\t}\n",
    "\tdef __init__(self, **kwargs):\n",
    "\t\tpprint(dir(github))\n",
    "\t\tself.api_key = github.youtube_api_key\n",
    "\n",
    "\n",
    "\tdef request(self, endpoint, **parameters):\n",
    "\t\tif not endpoint.endswith('s'): endpoint += 's'\n",
    "\t\turl = self.endpoints[endpoint]\n",
    "\n",
    "\t\tparameters['key'] = self.api_key\n",
    "\n",
    "\t\tresponse = requests.get(url, params = parameters)\n",
    "\t\treturn response\n",
    "\n",
    "\n",
    "test_api = CallApi()\n",
    "youtube = YouTube(api_key = github.youtube_api_key)\n",
    "\n",
    "playlist_parameters = {\n",
    "\t'id':         \"PL1cXh4tWqmsEQPeLEJ5V3k5knt-X9k043\",\n",
    "\t'maxResults': 50,\n",
    "\t'part':       \"snippet,contentDetails\",\n",
    "}\n",
    "search_parameters = {\n",
    "\t'playlistId': playlist_parameters['id'],\n",
    "\t'maxResults': 50,\n",
    "\t'part':       'snippet',\n",
    "}\n",
    "channel_parameters = {\n",
    "\t'id':   'UCkxctb0jr8vwa4Do6c6su0Q',\n",
    "\t'part': \"snippet,statistics,topicDetails\"\n",
    "}\n",
    "video_parameters = {\n",
    "\t'id':   'p9RKAalhtZM',\n",
    "\t'part': 'snippet,statistics,topicDetails'\n",
    "}\n",
    "\n",
    "response = test_api.request('channels', **channel_parameters)\n",
    "\n",
    "#pprint(response.json(), width = 200)\n",
    "print(type(response))\n",
    "print(\"Finished!\")\n"
   ]
  },
  {
   "cell_type": "code",
   "execution_count": 4,
   "metadata": {},
   "outputs": [
    {
     "name": "stdout",
     "output_type": "stream",
     "text": [
      "ApiResponse('playlistItem', 'FrLgREKD4kk')\nApiResponse('playlistItem', 'Tihfx6DunZs')\nApiResponse('playlistItem', '5LGI2YNGPY4')\nApiResponse('playlistItem', 'C24-6jgPnKM')\nApiResponse('playlistItem', 'H3_jfbgfdvk')\nApiResponse('playlistItem', 'N0cOBlKhfxg')\nApiResponse('playlistItem', 'Nuj7D5CC_u4')\nApiResponse('playlistItem', '3E-1UMsb7wM')\nApiResponse('playlistItem', 'WpfWIizrd6U')\nApiResponse('playlistItem', 'V9Znhvbyo_c')\nApiResponse('playlistItem', 'dgVEs85Q7pg')\nApiResponse('playlistItem', 'm2gM_5j0QTI')\nApiResponse('playlistItem', 'wML52FKQyRo')\nApiResponse('playlistItem', '8yC3Jl77Ywo')\nApiResponse('playlistItem', 'u30n18MIeC0')\nApiResponse('playlistItem', 'UpwAXpA680Q')\nApiResponse('playlistItem', 'ZzmWedLiHMg')\nApiResponse('playlistItem', 'IBHK6ePF7B8')\nApiResponse('playlistItem', 'ajvP0rrlqV0')\nApiResponse('playlistItem', '0mADvdqKQOI')\nApiResponse('playlistItem', 'N0u0S5ojygo')\nApiResponse('playlistItem', 'I2XdnuZKMlM')\nApiResponse('playlistItem', 'WXA4IsJTvRo')\nApiResponse('playlistItem', 'eqP67zoojq4')\nApiResponse('playlistItem', 'n8jdk22coLo')\nApiResponse('playlistItem', 'j8eEzU-zu3s')\nApiResponse('playlistItem', 'eQe-9mkZgCs')\nApiResponse('playlistItem', 'hg64Qofzoyo')\nApiResponse('playlistItem', 'Xb3ywprBtas')\nApiResponse('playlistItem', 'ok08s4kszvU')\nApiResponse('playlistItem', 'pFeZ83_o2Tw')\nApiResponse('playlistItem', '0XBqbquQIC8')\nApiResponse('playlistItem', '5xf49jd28hk')\nApiResponse('playlistItem', 'WTkBQA4Gdes')\nApiResponse('playlistItem', 'EZ_TioOCaWo')\nApiResponse('playlistItem', 'io7El3VlucU')\nApiResponse('playlistItem', 'thbS15ZaUig')\nApiResponse('playlistItem', 'uy8VNpHIogY')\nApiResponse('playlistItem', 'e3gvH9_EnsE')\nApiResponse('playlistItem', 'fMzUkYSa6ck')\nApiResponse('playlistItem', 'Tws6dkOsuAQ')\nApiResponse('playlistItem', '8xNHDWLwvf8')\nApiResponse('playlistItem', 'Dq0RO3xKao4')\nApiResponse('playlistItem', 'LI3KJSEhxNY')\nApiResponse('playlistItem', 'BccJc9FSftM')\nApiResponse('playlistItem', 'ofsgkdQqgQs')\nApiResponse('playlistItem', 'wdVDQZBy_TM')\nApiResponse('playlistItem', '9vifqDcxKYw')\nApiResponse('playlistItem', 'hJXiZ37ZO5w')\nApiResponse('playlistItem', 'U176bnce4iQ')\n"
     ]
    }
   ],
   "source": [
    "result = youtube.getPlaylistItems(playlist_parameters['id'])\n",
    "for item in result:\n",
    "\tprint(item)\n",
    "\n"
   ]
  },
  {
   "cell_type": "code",
   "execution_count": 5,
   "metadata": {},
   "outputs": [
    {
     "name": "stdout",
     "output_type": "stream",
     "text": [
      "{'etag': '\"S8kisgyDEblalhHF9ooXPiFFrkc/uSWy72D2-srPx7gdH2aNS14tyVw\"',\n 'id': 'UEwxY1hoNHRXcW1zRVFQZUxFSjVWM2s1a250LVg5azA0My5CNTZFOTNGQzZEODg1RUQx',\n 'kind': 'youtube#playlistItem',\n 'snippet': {'channelId': 'UCkxctb0jr8vwa4Do6c6su0Q',\n             'channelTitle': 'LetsPlay',\n             'description': 'Geoff, Jack, Michael, Gavin, Ray and Ryan all team up on a long quest to fight the Ender Dragon. Will they make it? Or will their lovely relationship buckle under the '\n                            'pressure? Join FIRST to watch episodes early: http://bit.ly/2emdy6q\\n'\n                            '\\n'\n                            \"» Get your Let's Play merch: http://bit.ly/2emgP5J\\n\"\n                            '» Subscribe: http://bit.ly/1BuRgl1\\n'\n                            '\\n'\n                            'About Minecraft:\\n'\n                            \"Tune in every week to watch a game that you'd never play yourself. It's Minecraft! And it's never gonna stop.\\n\"\n                            '\\n'\n                            \"More from Let's Play:\\n\"\n                            '» Achievement Hunter: http://bit.ly/AHYTChannel\\n'\n                            '\\n'\n                            \"Let's Play Minecraft: Ep. 49 - THE END Part 1\\n\"\n                            'https://www.youtube.com/user/letsplay',\n             'playlistId': 'PL1cXh4tWqmsEQPeLEJ5V3k5knt-X9k043',\n             'position': 49,\n             'publishedAt': '2013-08-13T20:39:06.000Z',\n             'resourceId': {'kind': 'youtube#video', 'videoId': 'U176bnce4iQ'},\n             'thumbnails': {'default': {'height': 90, 'url': 'https://i.ytimg.com/vi/U176bnce4iQ/default.jpg', 'width': 120},\n                            'high': {'height': 360, 'url': 'https://i.ytimg.com/vi/U176bnce4iQ/hqdefault.jpg', 'width': 480},\n                            'maxres': {'height': 720, 'url': 'https://i.ytimg.com/vi/U176bnce4iQ/maxresdefault.jpg', 'width': 1280},\n                            'medium': {'height': 180, 'url': 'https://i.ytimg.com/vi/U176bnce4iQ/mqdefault.jpg', 'width': 320},\n                            'standard': {'height': 480, 'url': 'https://i.ytimg.com/vi/U176bnce4iQ/sddefault.jpg', 'width': 640}},\n             'title': \"Let's Play Minecraft: Ep. 49 - THE END Part 1\"}}\n"
     ]
    }
   ],
   "source": [
    "pprint(item.api_response)"
   ]
  },
  {
   "cell_type": "code",
   "execution_count": 4,
   "metadata": {},
   "outputs": [
    {
     "name": "stdout",
     "output_type": "stream",
     "text": [
      "{'channelId': 'UCkxctb0jr8vwa4Do6c6su0Q',\n 'channelName': 'LetsPlay',\n 'itemDescription': 'Geoff, Jack, Michael, Gavin, Ray and Ryan all team up on a long quest to fight the Ender Dragon. Will they make it? Or will their lovely relationship buckle under the pressure? '\n                    'Join FIRST to watch episodes early: http://bit.ly/2emdy6q\\n'\n                    '\\n'\n                    \"» Get your Let's Play merch: http://bit.ly/2emgP5J\\n\"\n                    '» Subscribe: http://bit.ly/1BuRgl1\\n'\n                    '\\n'\n                    'About Minecraft:\\n'\n                    \"Tune in every week to watch a game that you'd never play yourself. It's Minecraft! And it's never gonna stop.\\n\"\n                    '\\n'\n                    \"More from Let's Play:\\n\"\n                    '» Achievement Hunter: http://bit.ly/AHYTChannel\\n'\n                    '\\n'\n                    \"Let's Play Minecraft: Ep. 49 - THE END Part 1\\n\"\n                    'https://www.youtube.com/user/letsplay',\n 'itemId': 'U176bnce4iQ',\n 'itemKind': 'video',\n 'itemName': \"Let's Play Minecraft: Ep. 49 - THE END Part 1\",\n 'itemPublishDate': '2013-08-13T20:39:06.000Z',\n 'playlistId': 'PL1cXh4tWqmsEQPeLEJ5V3k5knt-X9k043'}\n"
     ]
    }
   ],
   "source": [
    "pprint(r.toStandard())"
   ]
  },
  {
   "cell_type": "code",
   "execution_count": null,
   "metadata": {},
   "outputs": [],
   "source": [
    "def getChannelSeries(channel):\n",
    "\t\"\"\"\n",
    "\t\tDetermines which videos in the channel belong to a series.\n",
    "\tParameters\n",
    "\t----------\n",
    "\tchannel\n",
    "\n",
    "\tReturns\n",
    "\t-------\n",
    "\n",
    "\t\"\"\"\n",
    "\tvideos = channel.videos\n",
    "\t\n",
    "\t"
   ]
  }
 ],
 "metadata": {
  "kernelspec": {
   "display_name": "Python 2",
   "language": "python",
   "name": "python2"
  },
  "language_info": {
   "codemirror_mode": {
    "name": "ipython",
    "version": 2
   },
   "file_extension": ".py",
   "mimetype": "text/x-python",
   "name": "python",
   "nbconvert_exporter": "python",
   "pygments_lexer": "ipython2",
   "version": "2.7.6"
  }
 },
 "nbformat": 4,
 "nbformat_minor": 0
}
