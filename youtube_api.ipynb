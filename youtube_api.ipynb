{
 "cells": [
  {
   "cell_type": "code",
   "execution_count": 5,
   "metadata": {
    "collapsed": true
   },
   "outputs": [
    {
     "name": "stdout",
     "output_type": "stream",
     "text": [
      "Finished!\n"
     ]
    }
   ],
   "source": [
    "from package import *\n",
    "\n",
    "\n",
    "\n",
    "import requests\n",
    "from pprint import pprint\n",
    "from functools import partial\n",
    "\n",
    "import os\n",
    "import sys \n",
    "github_folder = os.path.join(os.getenv('USERPROFILE'), 'Documents', 'Github', 'python-youtube-api')\n",
    "sys.path.append(github_folder)\n",
    "\n",
    "pprint = partial(pprint, width = 200)\n",
    "\n",
    "\n",
    "youtube = YouTubeDatabase(github.youtube_api_key, 'youtube_database')\n",
    "\n",
    "\n",
    "#pprint(response.json(), width = 200)\n",
    "#print(type(response))\n",
    "test_video = \"836Lv_swaCk\"\n",
    "roosterteeth = 'UCzH3iADRIq1IJlIXjfNgTpA'\n",
    "print(\"Finished!\")\n"
   ]
  },
  {
   "cell_type": "code",
   "execution_count": 12,
   "metadata": {},
   "outputs": [
    {
     "name": "stdout",
     "output_type": "stream",
     "text": [
      "<Response [200]>\n"
     ]
    }
   ],
   "source": [
    "class TestApi:\n",
    "\tyoutube_key = \"\"\n",
    "\n",
    "\tapis = {\n",
    "\t\t'videos.list': 'https://www.googleapis.com/youtube/v3/videos',\n",
    "\t\t'search.list': 'https://www.googleapis.com/youtube/v3/search',\n",
    "\t\t'channels.list': 'https://www.googleapis.com/youtube/v3/channels',\n",
    "\t\t'playlists.list': 'https://www.googleapis.com/youtube/v3/playlists',\n",
    "\t\t'playlistItems.list': 'https://www.googleapis.com/youtube/v3/playlistItems',\n",
    "\t\t'activities': 'https://www.googleapis.com/youtube/v3/activities',\n",
    "\t}\n",
    "\n",
    "\tpage_info = {}\n",
    "\n",
    "\tdef __init__(self, key):\n",
    "\n",
    "\t\tself.youtube_key = key\n",
    "\n",
    "\tdef get_video_info(self, video_id):\n",
    "\n",
    "\t\tapi_url = self.get_api('videos.list')\n",
    "\t\tparams = {\n",
    "\t\t\t'id': video_id,\n",
    "\t\t\t'key': self.youtube_key,\n",
    "\t\t\t'part': 'id, snippet, contentDetails, player, statistics, status'\n",
    "\t\t}\n",
    "\t\tapiData = self.api_get(api_url, params)\n",
    "\t\treturn apiData\n",
    "\t\treturn self.decode_single(apiData)\n",
    "\n",
    "\tdef get_api(self, name):\n",
    "\t\treturn self.apis[name]\n",
    "\tdef api_get(self, url, params):\n",
    "\n",
    "\t\tparams['key'] = self.youtube_key\n",
    "\n",
    "\t\tdata = requests.get(url, params)\n",
    "\n",
    "\t\treturn data\n",
    "\tdef decode_single(self, api_data):\n",
    "\n",
    "\t\tres_obj = api_data\n",
    "\t\tif 'error' in res_obj:\n",
    "\t\t\tmsg = \"Error \" + res_obj['error']['code'] + \" \" + res_obj['error']['message']\n",
    "\t\t\tif res_obj['error']['errors'][0]:\n",
    "\t\t\t\tmsg = msg + \" : \" + res_obj['error']['errors'][0]['reason']\n",
    "\t\t\traise Exception(msg)\n",
    "\t\telse:\n",
    "\t\t\titems_array = res_obj['items']\n",
    "\t\t\tif isinstance(items_array, dict) or len(items_array) == 0:\n",
    "\t\t\t\treturn False\n",
    "\t\t\telse:\n",
    "\t\t\t\treturn items_array[0]\n",
    "test_api = TestApi(github.youtube_api_key)\n",
    "\n",
    "response = test_api.get_video_info(test_video)\n",
    "pprint(response)"
   ]
  },
  {
   "cell_type": "code",
   "execution_count": 13,
   "metadata": {},
   "outputs": [
    {
     "data": {
      "text/plain": [
       "['__attrs__',\n '__bool__',\n '__class__',\n '__delattr__',\n '__dict__',\n '__dir__',\n '__doc__',\n '__enter__',\n '__eq__',\n '__exit__',\n '__format__',\n '__ge__',\n '__getattribute__',\n '__getstate__',\n '__gt__',\n '__hash__',\n '__init__',\n '__init_subclass__',\n '__iter__',\n '__le__',\n '__lt__',\n '__module__',\n '__ne__',\n '__new__',\n '__nonzero__',\n '__reduce__',\n '__reduce_ex__',\n '__repr__',\n '__setattr__',\n '__setstate__',\n '__sizeof__',\n '__str__',\n '__subclasshook__',\n '__weakref__',\n '_content',\n '_content_consumed',\n '_next',\n 'apparent_encoding',\n 'close',\n 'connection',\n 'content',\n 'cookies',\n 'elapsed',\n 'encoding',\n 'headers',\n 'history',\n 'is_permanent_redirect',\n 'is_redirect',\n 'iter_content',\n 'iter_lines',\n 'json',\n 'links',\n 'next',\n 'ok',\n 'raise_for_status',\n 'raw',\n 'reason',\n 'request',\n 'status_code',\n 'text',\n 'url']"
      ]
     },
     "execution_count": 13,
     "metadata": {},
     "output_type": "execute_result"
    }
   ],
   "source": [
    "dir(response)"
   ]
  },
  {
   "cell_type": "code",
   "execution_count": 23,
   "metadata": {},
   "outputs": [
    {
     "data": {
      "text/plain": [
       "'{\\n \"kind\": \"youtube#videoListResponse\",\\n \"etag\": \"\\\\\"S8kisgyDEblalhHF9ooXPiFFrkc/-uZgUCCiSPojk5KykI-wpK71WlI\\\\\"\",\\n \"pageInfo\": {\\n  \"totalResults\": 1,\\n  \"resultsPerPage\": 1\\n },\\n \"items\": [\\n  {\\n   \"kind\": \"youtube#video\",\\n   \"etag\": \"\\\\\"S8kisgyDEblalhHF9ooXPiFFrkc/y7D_TcVxrlUEtmePbOijB-o3M6A\\\\\"\",\\n   \"id\": \"836Lv_swaCk\",\\n   \"snippet\": {\\n    \"publishedAt\": \"2018-01-10T20:33:38.000Z\",\\n    \"channelId\": \"UCjdQaSJCYS4o2eG93MvIwqg\",\\n    \"title\": \"Garbage Guide To Pokemon Platinum\",\\n    \"description\": \"Pokemon Platinum is the smartest and most serious Pokémon game ever. The goal is to see every pokemon and save the world. But out main character is sleepy can she do it. No she can not. \\\\n\\\\nDiscord: https://www.discord.gg/kilian\\\\nPatreon: https://www.patreon.com/kilianexperience?ty=h\\\\nhttps://twitter.com/KilExperience\\\\nhttps://www.reddit.com/r/kilian/\\\\nhttp://steamcommunity.com/groups/KilianExperience\\\\nhttps://www.facebook.com/kilianexperience/\\\\nMusic: http://www.purple-planet.com \\\\nand\\\\nMusic Kevin MacLeod (incompetech.com)\\\\nLicensed under Creative Commons: By Attribution 3.0\\\\nhttp://creativecommons.org/licenses/by/3.0/\",\\n    \"thumbnails\": {\\n     \"default\": {\\n      \"url\": \"https://i.ytimg.com/vi/836Lv_swaCk/default.jpg\",\\n      \"width\": 120,\\n      \"height\": 90\\n     },\\n     \"medium\": {\\n      \"url\": \"https://i.ytimg.com/vi/836Lv_swaCk/mqdefault.jpg\",\\n      \"width\": 320,\\n      \"height\": 180\\n     },\\n     \"high\": {\\n      \"url\": \"https://i.ytimg.com/vi/836Lv_swaCk/hqdefault.jpg\",\\n      \"width\": 480,\\n      \"height\": 360\\n     },\\n     \"standard\": {\\n      \"url\": \"https://i.ytimg.com/vi/836Lv_swaCk/sddefault.jpg\",\\n      \"width\": 640,\\n      \"height\": 480\\n     },\\n     \"maxres\": {\\n      \"url\": \"https://i.ytimg.com/vi/836Lv_swaCk/maxresdefault.jpg\",\\n      \"width\": 1280,\\n      \"height\": 720\\n     }\\n    },\\n    \"channelTitle\": \"Kilian Experience\",\\n    \"tags\": [\\n     \"Pokemon Platinum Funny\",\\n     \"Pokemon Parody\",\\n     \"Pokemon Animated\",\\n     \"Pokemon Diamond and Pearl\",\\n     \"pokemon platinum giratina\",\\n     \"Pokemon Platinum cheat\",\\n     \"Pokemon Platinum legendary pokemon\",\\n     \"Platinum Version\",\\n     \"piplup\",\\n     \"Team Galactic\",\\n     \"Funny Moments\",\\n     \"Kilian Experience\"\\n    ],\\n    \"categoryId\": \"20\",\\n    \"liveBroadcastContent\": \"none\",\\n    \"localized\": {\\n     \"title\": \"Garbage Guide To Pokemon Platinum\",\\n     \"description\": \"Pokemon Platinum is the smartest and most serious Pokémon game ever. The goal is to see every pokemon and save the world. But out main character is sleepy can she do it. No she can not. \\\\n\\\\nDiscord: https://www.discord.gg/kilian\\\\nPatreon: https://www.patreon.com/kilianexperience?ty=h\\\\nhttps://twitter.com/KilExperience\\\\nhttps://www.reddit.com/r/kilian/\\\\nhttp://steamcommunity.com/groups/KilianExperience\\\\nhttps://www.facebook.com/kilianexperience/\\\\nMusic: http://www.purple-planet.com \\\\nand\\\\nMusic Kevin MacLeod (incompetech.com)\\\\nLicensed under Creative Commons: By Attribution 3.0\\\\nhttp://creativecommons.org/licenses/by/3.0/\"\\n    },\\n    \"defaultAudioLanguage\": \"en\"\\n   },\\n   \"contentDetails\": {\\n    \"duration\": \"PT15M24S\",\\n    \"dimension\": \"2d\",\\n    \"definition\": \"hd\",\\n    \"caption\": \"false\",\\n    \"licensedContent\": true,\\n    \"projection\": \"rectangular\"\\n   },\\n   \"status\": {\\n    \"uploadStatus\": \"processed\",\\n    \"privacyStatus\": \"public\",\\n    \"license\": \"youtube\",\\n    \"embeddable\": true,\\n    \"publicStatsViewable\": true\\n   },\\n   \"statistics\": {\\n    \"viewCount\": \"225192\",\\n    \"likeCount\": \"18774\",\\n    \"dislikeCount\": \"155\",\\n    \"favoriteCount\": \"0\",\\n    \"commentCount\": \"1567\"\\n   },\\n   \"player\": {\\n    \"embedHtml\": \"\\\\u003ciframe width=\\\\\"480\\\\\" height=\\\\\"270\\\\\" src=\\\\\"//www.youtube.com/embed/836Lv_swaCk\\\\\" frameborder=\\\\\"0\\\\\" allow=\\\\\"autoplay; encrypted-media\\\\\" allowfullscreen\\\\u003e\\\\u003c/iframe\\\\u003e\"\\n   }\\n  }\\n ]\\n}\\n'"
      ]
     },
     "execution_count": 23,
     "metadata": {},
     "output_type": "execute_result"
    }
   ],
   "source": [
    "response.text"
   ]
  },
  {
   "cell_type": "code",
   "execution_count": null,
   "metadata": {},
   "outputs": [],
   "source": []
  }
 ],
 "metadata": {
  "kernelspec": {
   "display_name": "Python 2",
   "language": "python",
   "name": "python2"
  },
  "language_info": {
   "codemirror_mode": {
    "name": "ipython",
    "version": 2
   },
   "file_extension": ".py",
   "mimetype": "text/x-python",
   "name": "python",
   "nbconvert_exporter": "python",
   "pygments_lexer": "ipython2",
   "version": "2.7.6"
  }
 },
 "nbformat": 4,
 "nbformat_minor": 0
}
