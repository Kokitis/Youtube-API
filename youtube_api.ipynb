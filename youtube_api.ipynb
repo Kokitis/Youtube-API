{
 "cells": [
  {
   "cell_type": "code",
   "execution_count": 1,
   "metadata": {
    "collapsed": true
   },
   "outputs": [
    {
     "name": "stdout",
     "output_type": "stream",
     "text": [
      "['DATA_FOLDER',\n '__builtins__',\n '__cached__',\n '__doc__',\n '__file__',\n '__loader__',\n '__name__',\n '__package__',\n '__spec__',\n 'github_folder',\n 'os',\n 'sys',\n 'tabletools',\n 'timetools',\n 'youtube_api_key',\n 'youtube_subscriptions']\n<class 'requests.models.Response'>\nFinished!\n"
     ]
    }
   ],
   "source": [
    "from package import *\n",
    "\n",
    "import requests\n",
    "from pprint import pprint\n",
    "from functools import partial\n",
    "\n",
    "pprint = partial(pprint, width = 200)\n",
    "\n",
    "\n",
    "class CallApi:\n",
    "\tendpoints = {\n",
    "\t\t'videos':        'https://www.googleapis.com/youtube/v3/videos',\n",
    "\t\t'searchs':       'https://www.googleapis.com/youtube/v3/search',\n",
    "\t\t'channels':      'https://www.googleapis.com/youtube/v3/channels',\n",
    "\t\t'playlists':     'https://www.googleapis.com/youtube/v3/playlists',\n",
    "\t\t'playlistItems': 'https://www.googleapis.com/youtube/v3/playlistItems',\n",
    "\t\t'activities':    'https://www.googleapis.com/youtube/v3/activities',\n",
    "\t\t'watch':         'http://www.youtube.com/watch'\n",
    "\t}\n",
    "\tdef __init__(self, **kwargs):\n",
    "\t\tpprint(dir(github))\n",
    "\t\tself.api_key = github.youtube_api_key\n",
    "\n",
    "\n",
    "\tdef request(self, endpoint, **parameters):\n",
    "\t\tif not endpoint.endswith('s'): endpoint += 's'\n",
    "\t\turl = self.endpoints[endpoint]\n",
    "\n",
    "\t\tparameters['key'] = self.api_key\n",
    "\n",
    "\t\tresponse = requests.get(url, params = parameters)\n",
    "\t\treturn response\n",
    "\n",
    "\n",
    "test_api = CallApi()\n",
    "youtube = YouTube(api_key = github.youtube_api_key)\n",
    "\n",
    "playlist_parameters = {\n",
    "\t'id':         \"PL1cXh4tWqmsEQPeLEJ5V3k5knt-X9k043\",\n",
    "\t'maxResults': 50,\n",
    "\t'part':       \"snippet,contentDetails\",\n",
    "}\n",
    "search_parameters = {\n",
    "\t'playlistId': playlist_parameters['id'],\n",
    "\t'maxResults': 50,\n",
    "\t'part':       'snippet',\n",
    "}\n",
    "channel_parameters = {\n",
    "\t'id':   'UCkxctb0jr8vwa4Do6c6su0Q',\n",
    "\t'part': \"snippet,statistics,topicDetails\"\n",
    "}\n",
    "video_parameters = {\n",
    "\t'id':   'p9RKAalhtZM',\n",
    "\t'part': 'snippet,statistics,topicDetails'\n",
    "}\n",
    "\n",
    "response = test_api.request('channels', **channel_parameters)\n",
    "\n",
    "#pprint(response.json(), width = 200)\n",
    "print(type(response))\n",
    "roosterteeth = 'UCzH3iADRIq1IJlIXjfNgTpA'\n",
    "print(\"Finished!\")\n"
   ]
  },
  {
   "cell_type": "code",
   "execution_count": 4,
   "metadata": {},
   "outputs": [
    {
     "name": "stdout",
     "output_type": "stream",
     "text": [
      "{'etag': '\"S8kisgyDEblalhHF9ooXPiFFrkc/X4O2fr6cqoZxyJGCVamtDg_z9U0\"',\n 'items': [{'contentDetails': {'relatedPlaylists': {'uploads': 'UUzH3iADRIq1IJlIXjfNgTpA', 'watchHistory': 'HL', 'watchLater': 'WL'}},\n            'etag': '\"S8kisgyDEblalhHF9ooXPiFFrkc/WkiM-NlSxJURoP0oB-CV68GlAHk\"',\n            'id': 'UCzH3iADRIq1IJlIXjfNgTpA',\n            'kind': 'youtube#channel',\n            'snippet': {'country': 'US',\n                        'customUrl': 'roosterteeth',\n                        'description': \"Welcome to the Rooster Teeth Channel. We're a production company in Austin, TX, making podcasts, animated shows, and live-action shorts and series. We also \"\n                                       'make content on a bunch of gaming channels; check those out on the right. SUBSCRIBE: http://bit.ly/Roosterteeth',\n                        'localized': {'description': \"Welcome to the Rooster Teeth Channel. We're a production company in Austin, TX, making podcasts, animated shows, and live-action shorts and \"\n                                                     'series. We also make content on a bunch of gaming channels; check those out on the right. SUBSCRIBE: http://bit.ly/Roosterteeth',\n                                      'title': 'Rooster Teeth'},\n                        'publishedAt': '2006-07-11T03:56:06.000Z',\n                        'thumbnails': {'default': {'url': 'https://yt3.ggpht.com/-hddEYyXVeZM/AAAAAAAAAAI/AAAAAAAAAAA/ghwEL1-FHdE/s88-c-k-no-mo-rj-c0xffffff/photo.jpg'},\n                                       'high': {'url': 'https://yt3.ggpht.com/-hddEYyXVeZM/AAAAAAAAAAI/AAAAAAAAAAA/ghwEL1-FHdE/s240-c-k-no-mo-rj-c0xffffff/photo.jpg'},\n                                       'medium': {'url': 'https://yt3.ggpht.com/-hddEYyXVeZM/AAAAAAAAAAI/AAAAAAAAAAA/ghwEL1-FHdE/s240-c-k-no-mo-rj-c0xffffff/photo.jpg'}},\n                        'title': 'Rooster Teeth'},\n            'statistics': {'commentCount': '13835', 'hiddenSubscriberCount': False, 'subscriberCount': '9341371', 'videoCount': '7655', 'viewCount': '5320840299'},\n            'topicDetails': {'topicCategories': ['https://en.wikipedia.org/wiki/Entertainment', 'https://en.wikipedia.org/wiki/Video_game_culture', 'https://en.wikipedia.org/wiki/Action_game'],\n                             'topicIds': ['/m/025zzc', '/m/0bzvm2', '/m/02jjt']}}],\n 'kind': 'youtube#channelListResponse',\n 'pageInfo': {'resultsPerPage': 1, 'totalResults': 1}}\n"
     ]
    }
   ],
   "source": [
    "pprint(youtube.get('channel', roosterteeth).api_response.json())"
   ]
  },
  {
   "cell_type": "code",
   "execution_count": 2,
   "metadata": {},
   "outputs": [
    {
     "name": "stderr",
     "output_type": "stream",
     "text": [
      "\r                                                                               \r\rN/A% (0 of 7655) |                       | Elapsed Time: 0:00:00 ETA:  --:--:--"
     ]
    },
    {
     "name": "stderr",
     "output_type": "stream",
     "text": [
      "\r                                                                               \r\r  1% (100 of 7655) |                      | Elapsed Time: 0:00:00 ETA:  0:00:31"
     ]
    },
    {
     "name": "stderr",
     "output_type": "stream",
     "text": [
      "\r                                                                               \r\r  1% (150 of 7655) |                      | Elapsed Time: 0:00:00 ETA:  0:00:42"
     ]
    },
    {
     "name": "stderr",
     "output_type": "stream",
     "text": [
      "\r                                                                               \r\r  2% (200 of 7655) |                      | Elapsed Time: 0:00:01 ETA:  0:00:48"
     ]
    },
    {
     "name": "stderr",
     "output_type": "stream",
     "text": [
      "\r                                                                               \r\r  3% (250 of 7655) |                      | Elapsed Time: 0:00:01 ETA:  0:00:47"
     ]
    },
    {
     "name": "stderr",
     "output_type": "stream",
     "text": [
      "\r                                                                               \r\r  3% (300 of 7655) |                      | Elapsed Time: 0:00:01 ETA:  0:00:46"
     ]
    },
    {
     "name": "stderr",
     "output_type": "stream",
     "text": [
      "\r                                                                               \r\r  4% (350 of 7655) |#                     | Elapsed Time: 0:00:02 ETA:  0:00:48"
     ]
    },
    {
     "name": "stderr",
     "output_type": "stream",
     "text": [
      "\r                                                                               \r\r  5% (400 of 7655) |#                     | Elapsed Time: 0:00:02 ETA:  0:00:48"
     ]
    },
    {
     "name": "stderr",
     "output_type": "stream",
     "text": [
      "\r                                                                               \r\r  5% (450 of 7655) |#                     | Elapsed Time: 0:00:03 ETA:  0:00:48"
     ]
    },
    {
     "name": "stderr",
     "output_type": "stream",
     "text": [
      "\r                                                                               \r\r  6% (500 of 7655) |#                     | Elapsed Time: 0:00:03 ETA:  0:00:48"
     ]
    },
    {
     "name": "stderr",
     "output_type": "stream",
     "text": [
      "\r                                                                               \r\r  7% (550 of 7655) |#                     | Elapsed Time: 0:00:03 ETA:  0:00:51"
     ]
    },
    {
     "name": "stderr",
     "output_type": "stream",
     "text": [
      "\r                                                                               \r\r  7% (600 of 7655) |#                     | Elapsed Time: 0:00:04 ETA:  0:00:50"
     ]
    },
    {
     "name": "stderr",
     "output_type": "stream",
     "text": [
      "\r                                                                               \r\r  8% (650 of 7655) |#                     | Elapsed Time: 0:00:04 ETA:  0:00:50"
     ]
    },
    {
     "name": "stderr",
     "output_type": "stream",
     "text": [
      "\r                                                                               \r\r  9% (700 of 7655) |##                    | Elapsed Time: 0:00:04 ETA:  0:00:49"
     ]
    },
    {
     "name": "stderr",
     "output_type": "stream",
     "text": [
      "\r                                                                               \r\r  9% (750 of 7655) |##                    | Elapsed Time: 0:00:05 ETA:  0:00:49"
     ]
    },
    {
     "name": "stderr",
     "output_type": "stream",
     "text": [
      "\r                                                                               \r\r 10% (800 of 7655) |##                    | Elapsed Time: 0:00:05 ETA:  0:00:50"
     ]
    },
    {
     "name": "stderr",
     "output_type": "stream",
     "text": [
      "\r                                                                               \r\r 11% (850 of 7655) |##                    | Elapsed Time: 0:00:06 ETA:  0:00:52"
     ]
    },
    {
     "name": "stderr",
     "output_type": "stream",
     "text": [
      "\r                                                                               \r\r 11% (900 of 7655) |##                    | Elapsed Time: 0:00:06 ETA:  0:00:52"
     ]
    },
    {
     "name": "stderr",
     "output_type": "stream",
     "text": [
      "\r                                                                               \r\r 12% (950 of 7655) |##                    | Elapsed Time: 0:00:07 ETA:  0:00:51"
     ]
    },
    {
     "name": "stderr",
     "output_type": "stream",
     "text": [
      "\r                                                                               \r\r 13% (1000 of 7655) |##                   | Elapsed Time: 0:00:07 ETA:  0:00:51"
     ]
    },
    {
     "name": "stderr",
     "output_type": "stream",
     "text": [
      "\r                                                                               \r\r 13% (1050 of 7655) |##                   | Elapsed Time: 0:00:08 ETA:  0:00:50"
     ]
    },
    {
     "name": "stderr",
     "output_type": "stream",
     "text": [
      "\r                                                                               \r\r 14% (1100 of 7655) |###                  | Elapsed Time: 0:00:08 ETA:  0:00:49"
     ]
    },
    {
     "name": "stderr",
     "output_type": "stream",
     "text": [
      "\r                                                                               \r\r 15% (1150 of 7655) |###                  | Elapsed Time: 0:00:08 ETA:  0:00:49"
     ]
    },
    {
     "name": "stderr",
     "output_type": "stream",
     "text": [
      "\r                                                                               \r\r 15% (1200 of 7655) |###                  | Elapsed Time: 0:00:09 ETA:  0:00:49"
     ]
    },
    {
     "name": "stderr",
     "output_type": "stream",
     "text": [
      "\r                                                                               \r\r 16% (1250 of 7655) |###                  | Elapsed Time: 0:00:09 ETA:  0:00:48"
     ]
    },
    {
     "name": "stderr",
     "output_type": "stream",
     "text": [
      "\r                                                                               \r\r 16% (1300 of 7655) |###                  | Elapsed Time: 0:00:09 ETA:  0:00:47"
     ]
    },
    {
     "name": "stderr",
     "output_type": "stream",
     "text": [
      "\r                                                                               \r\r 17% (1350 of 7655) |###                  | Elapsed Time: 0:00:10 ETA:  0:00:47"
     ]
    },
    {
     "name": "stderr",
     "output_type": "stream",
     "text": [
      "\r                                                                               \r\r 18% (1400 of 7655) |###                  | Elapsed Time: 0:00:10 ETA:  0:00:47"
     ]
    },
    {
     "name": "stderr",
     "output_type": "stream",
     "text": [
      "\r                                                                               \r\r 18% (1450 of 7655) |###                  | Elapsed Time: 0:00:10 ETA:  0:00:46"
     ]
    },
    {
     "name": "stderr",
     "output_type": "stream",
     "text": [
      "\r                                                                               \r\r 19% (1500 of 7655) |####                 | Elapsed Time: 0:00:11 ETA:  0:00:46"
     ]
    },
    {
     "name": "stderr",
     "output_type": "stream",
     "text": [
      "\r                                                                               \r\r 20% (1550 of 7655) |####                 | Elapsed Time: 0:00:11 ETA:  0:00:45"
     ]
    },
    {
     "name": "stderr",
     "output_type": "stream",
     "text": [
      "\r                                                                               \r\r 20% (1600 of 7655) |####                 | Elapsed Time: 0:00:12 ETA:  0:00:45"
     ]
    },
    {
     "name": "stderr",
     "output_type": "stream",
     "text": [
      "\r                                                                               \r\r 21% (1650 of 7655) |####                 | Elapsed Time: 0:00:12 ETA:  0:00:45"
     ]
    },
    {
     "name": "stderr",
     "output_type": "stream",
     "text": [
      "\r                                                                               \r\r 22% (1700 of 7655) |####                 | Elapsed Time: 0:00:12 ETA:  0:00:44"
     ]
    },
    {
     "name": "stderr",
     "output_type": "stream",
     "text": [
      "\r                                                                               \r\r 22% (1750 of 7655) |####                 | Elapsed Time: 0:00:13 ETA:  0:00:44"
     ]
    },
    {
     "name": "stderr",
     "output_type": "stream",
     "text": [
      "\r                                                                               \r\r 23% (1800 of 7655) |####                 | Elapsed Time: 0:00:13 ETA:  0:00:43"
     ]
    },
    {
     "name": "stderr",
     "output_type": "stream",
     "text": [
      "\r                                                                               \r\r 24% (1850 of 7655) |#####                | Elapsed Time: 0:00:13 ETA:  0:00:42"
     ]
    },
    {
     "name": "stderr",
     "output_type": "stream",
     "text": [
      "\r                                                                               \r\r 24% (1900 of 7655) |#####                | Elapsed Time: 0:00:14 ETA:  0:00:42"
     ]
    },
    {
     "name": "stderr",
     "output_type": "stream",
     "text": [
      "\r                                                                               \r\r 25% (1950 of 7655) |#####                | Elapsed Time: 0:00:14 ETA:  0:00:42"
     ]
    },
    {
     "name": "stderr",
     "output_type": "stream",
     "text": [
      "\r                                                                               \r\r 26% (2000 of 7655) |#####                | Elapsed Time: 0:00:14 ETA:  0:00:41"
     ]
    },
    {
     "name": "stderr",
     "output_type": "stream",
     "text": [
      "\r                                                                               \r\r 26% (2050 of 7655) |#####                | Elapsed Time: 0:00:15 ETA:  0:00:41"
     ]
    },
    {
     "name": "stderr",
     "output_type": "stream",
     "text": [
      "\r                                                                               \r\r 27% (2100 of 7655) |#####                | Elapsed Time: 0:00:15 ETA:  0:00:40"
     ]
    },
    {
     "name": "stderr",
     "output_type": "stream",
     "text": [
      "\r                                                                               \r\r 28% (2150 of 7655) |#####                | Elapsed Time: 0:00:15 ETA:  0:00:40"
     ]
    },
    {
     "name": "stderr",
     "output_type": "stream",
     "text": [
      "\r                                                                               \r\r 28% (2200 of 7655) |######               | Elapsed Time: 0:00:16 ETA:  0:00:40"
     ]
    },
    {
     "name": "stderr",
     "output_type": "stream",
     "text": [
      "\r                                                                               \r\r 29% (2250 of 7655) |######               | Elapsed Time: 0:00:16 ETA:  0:00:39"
     ]
    },
    {
     "name": "stderr",
     "output_type": "stream",
     "text": [
      "\r                                                                               \r\r 30% (2300 of 7655) |######               | Elapsed Time: 0:00:16 ETA:  0:00:39"
     ]
    },
    {
     "name": "stderr",
     "output_type": "stream",
     "text": [
      "\r                                                                               \r\r 30% (2350 of 7655) |######               | Elapsed Time: 0:00:17 ETA:  0:00:38"
     ]
    },
    {
     "name": "stderr",
     "output_type": "stream",
     "text": [
      "\r                                                                               \r\r 31% (2400 of 7655) |######               | Elapsed Time: 0:00:17 ETA:  0:00:38"
     ]
    },
    {
     "name": "stderr",
     "output_type": "stream",
     "text": [
      "\r                                                                               \r\r 32% (2450 of 7655) |######               | Elapsed Time: 0:00:17 ETA:  0:00:38"
     ]
    },
    {
     "name": "stderr",
     "output_type": "stream",
     "text": [
      "\r                                                                               \r\r 32% (2500 of 7655) |######               | Elapsed Time: 0:00:18 ETA:  0:00:37"
     ]
    },
    {
     "name": "stderr",
     "output_type": "stream",
     "text": [
      "\r                                                                               \r\r 33% (2550 of 7655) |######               | Elapsed Time: 0:00:18 ETA:  0:00:37"
     ]
    },
    {
     "name": "stderr",
     "output_type": "stream",
     "text": [
      "\r                                                                               \r\r 33% (2600 of 7655) |#######              | Elapsed Time: 0:00:19 ETA:  0:00:37"
     ]
    },
    {
     "name": "stderr",
     "output_type": "stream",
     "text": [
      "\r                                                                               \r\r 34% (2650 of 7655) |#######              | Elapsed Time: 0:00:19 ETA:  0:00:36"
     ]
    },
    {
     "name": "stderr",
     "output_type": "stream",
     "text": [
      "\r                                                                               \r\r 35% (2700 of 7655) |#######              | Elapsed Time: 0:00:19 ETA:  0:00:36"
     ]
    },
    {
     "name": "stderr",
     "output_type": "stream",
     "text": [
      "\r                                                                               \r\r 35% (2750 of 7655) |#######              | Elapsed Time: 0:00:20 ETA:  0:00:35"
     ]
    },
    {
     "name": "stderr",
     "output_type": "stream",
     "text": [
      "\r                                                                               \r\r 36% (2800 of 7655) |#######              | Elapsed Time: 0:00:20 ETA:  0:00:35"
     ]
    },
    {
     "name": "stderr",
     "output_type": "stream",
     "text": [
      "\r                                                                               \r\r 37% (2850 of 7655) |#######              | Elapsed Time: 0:00:20 ETA:  0:00:34"
     ]
    },
    {
     "name": "stderr",
     "output_type": "stream",
     "text": [
      "\r                                                                               \r\r 37% (2900 of 7655) |#######              | Elapsed Time: 0:00:21 ETA:  0:00:34"
     ]
    },
    {
     "name": "stderr",
     "output_type": "stream",
     "text": [
      "\r                                                                               \r\r 38% (2950 of 7655) |########             | Elapsed Time: 0:00:21 ETA:  0:00:34"
     ]
    },
    {
     "name": "stderr",
     "output_type": "stream",
     "text": [
      "\r                                                                               \r\r 39% (3000 of 7655) |########             | Elapsed Time: 0:00:21 ETA:  0:00:33"
     ]
    },
    {
     "name": "stderr",
     "output_type": "stream",
     "text": [
      "\r                                                                               \r\r 39% (3050 of 7655) |########             | Elapsed Time: 0:00:22 ETA:  0:00:33"
     ]
    },
    {
     "name": "stderr",
     "output_type": "stream",
     "text": [
      "\r                                                                               \r\r 40% (3100 of 7655) |########             | Elapsed Time: 0:00:22 ETA:  0:00:33"
     ]
    },
    {
     "name": "stderr",
     "output_type": "stream",
     "text": [
      "\r                                                                               \r\r 41% (3150 of 7655) |########             | Elapsed Time: 0:00:22 ETA:  0:00:32"
     ]
    },
    {
     "name": "stderr",
     "output_type": "stream",
     "text": [
      "\r                                                                               \r\r 41% (3200 of 7655) |########             | Elapsed Time: 0:00:23 ETA:  0:00:32"
     ]
    },
    {
     "name": "stderr",
     "output_type": "stream",
     "text": [
      "\r                                                                               \r\r 42% (3250 of 7655) |########             | Elapsed Time: 0:00:23 ETA:  0:00:31"
     ]
    },
    {
     "name": "stderr",
     "output_type": "stream",
     "text": [
      "\r                                                                               \r\r 43% (3300 of 7655) |#########            | Elapsed Time: 0:00:23 ETA:  0:00:31"
     ]
    },
    {
     "name": "stderr",
     "output_type": "stream",
     "text": [
      "\r                                                                               \r\r 43% (3350 of 7655) |#########            | Elapsed Time: 0:00:24 ETA:  0:00:31"
     ]
    },
    {
     "name": "stderr",
     "output_type": "stream",
     "text": [
      "\r                                                                               \r\r 44% (3400 of 7655) |#########            | Elapsed Time: 0:00:24 ETA:  0:00:30"
     ]
    },
    {
     "name": "stderr",
     "output_type": "stream",
     "text": [
      "\r                                                                               \r\r 45% (3450 of 7655) |#########            | Elapsed Time: 0:00:24 ETA:  0:00:30"
     ]
    },
    {
     "name": "stderr",
     "output_type": "stream",
     "text": [
      "\r                                                                               \r\r 45% (3500 of 7655) |#########            | Elapsed Time: 0:00:25 ETA:  0:00:30"
     ]
    },
    {
     "name": "stderr",
     "output_type": "stream",
     "text": [
      "\r                                                                               \r\r 46% (3550 of 7655) |#########            | Elapsed Time: 0:00:25 ETA:  0:00:29"
     ]
    },
    {
     "name": "stderr",
     "output_type": "stream",
     "text": [
      "\r                                                                               \r\r 47% (3600 of 7655) |#########            | Elapsed Time: 0:00:25 ETA:  0:00:29"
     ]
    },
    {
     "name": "stderr",
     "output_type": "stream",
     "text": [
      "\r                                                                               \r\r 47% (3650 of 7655) |##########           | Elapsed Time: 0:00:26 ETA:  0:00:28"
     ]
    },
    {
     "name": "stderr",
     "output_type": "stream",
     "text": [
      "\r                                                                               \r\r 48% (3700 of 7655) |##########           | Elapsed Time: 0:00:26 ETA:  0:00:28"
     ]
    },
    {
     "name": "stderr",
     "output_type": "stream",
     "text": [
      "\r                                                                               \r\r 48% (3750 of 7655) |##########           | Elapsed Time: 0:00:26 ETA:  0:00:28"
     ]
    },
    {
     "name": "stderr",
     "output_type": "stream",
     "text": [
      "\r                                                                               \r\r 49% (3800 of 7655) |##########           | Elapsed Time: 0:00:27 ETA:  0:00:27"
     ]
    },
    {
     "name": "stderr",
     "output_type": "stream",
     "text": [
      "\r                                                                               \r\r 50% (3850 of 7655) |##########           | Elapsed Time: 0:00:27 ETA:  0:00:27"
     ]
    },
    {
     "name": "stderr",
     "output_type": "stream",
     "text": [
      "\r                                                                               \r\r 50% (3900 of 7655) |##########           | Elapsed Time: 0:00:27 ETA:  0:00:27"
     ]
    },
    {
     "name": "stderr",
     "output_type": "stream",
     "text": [
      "\r                                                                               \r\r 51% (3950 of 7655) |##########           | Elapsed Time: 0:00:28 ETA:  0:00:26"
     ]
    },
    {
     "name": "stderr",
     "output_type": "stream",
     "text": [
      "\r                                                                               \r\r 52% (4000 of 7655) |##########           | Elapsed Time: 0:00:28 ETA:  0:00:26"
     ]
    },
    {
     "name": "stderr",
     "output_type": "stream",
     "text": [
      "\r                                                                               \r\r 52% (4050 of 7655) |###########          | Elapsed Time: 0:00:28 ETA:  0:00:25"
     ]
    },
    {
     "name": "stderr",
     "output_type": "stream",
     "text": [
      "\r                                                                               \r\r 53% (4100 of 7655) |###########          | Elapsed Time: 0:00:29 ETA:  0:00:25"
     ]
    },
    {
     "name": "stderr",
     "output_type": "stream",
     "text": [
      "\r                                                                               \r\r 54% (4150 of 7655) |###########          | Elapsed Time: 0:00:29 ETA:  0:00:25"
     ]
    },
    {
     "name": "stderr",
     "output_type": "stream",
     "text": [
      "\r                                                                               \r\r 54% (4200 of 7655) |###########          | Elapsed Time: 0:00:29 ETA:  0:00:24"
     ]
    },
    {
     "name": "stderr",
     "output_type": "stream",
     "text": [
      "\r                                                                               \r\r 55% (4250 of 7655) |###########          | Elapsed Time: 0:00:30 ETA:  0:00:24"
     ]
    },
    {
     "name": "stderr",
     "output_type": "stream",
     "text": [
      "\r                                                                               \r\r 56% (4300 of 7655) |###########          | Elapsed Time: 0:00:30 ETA:  0:00:23"
     ]
    },
    {
     "name": "stderr",
     "output_type": "stream",
     "text": [
      "\r                                                                               \r\r 56% (4350 of 7655) |###########          | Elapsed Time: 0:00:31 ETA:  0:00:23"
     ]
    },
    {
     "name": "stderr",
     "output_type": "stream",
     "text": [
      "\r                                                                               \r\r 57% (4400 of 7655) |############         | Elapsed Time: 0:00:31 ETA:  0:00:23"
     ]
    },
    {
     "name": "stderr",
     "output_type": "stream",
     "text": [
      "\r                                                                               \r\r 58% (4450 of 7655) |############         | Elapsed Time: 0:00:31 ETA:  0:00:22"
     ]
    },
    {
     "name": "stderr",
     "output_type": "stream",
     "text": [
      "\r                                                                               \r\r 58% (4500 of 7655) |############         | Elapsed Time: 0:00:32 ETA:  0:00:22"
     ]
    },
    {
     "name": "stderr",
     "output_type": "stream",
     "text": [
      "\r                                                                               \r\r 59% (4550 of 7655) |############         | Elapsed Time: 0:00:32 ETA:  0:00:21"
     ]
    },
    {
     "name": "stderr",
     "output_type": "stream",
     "text": [
      "\r                                                                               \r\r 60% (4600 of 7655) |############         | Elapsed Time: 0:00:32 ETA:  0:00:21"
     ]
    },
    {
     "name": "stderr",
     "output_type": "stream",
     "text": [
      "\r                                                                               \r\r 60% (4650 of 7655) |############         | Elapsed Time: 0:00:33 ETA:  0:00:21"
     ]
    },
    {
     "name": "stderr",
     "output_type": "stream",
     "text": [
      "\r                                                                               \r\r 61% (4700 of 7655) |############         | Elapsed Time: 0:00:33 ETA:  0:00:20"
     ]
    },
    {
     "name": "stderr",
     "output_type": "stream",
     "text": [
      "\r                                                                               \r\r 62% (4750 of 7655) |#############        | Elapsed Time: 0:00:33 ETA:  0:00:20"
     ]
    },
    {
     "name": "stderr",
     "output_type": "stream",
     "text": [
      "\r                                                                               \r\r 62% (4800 of 7655) |#############        | Elapsed Time: 0:00:34 ETA:  0:00:19"
     ]
    },
    {
     "name": "stderr",
     "output_type": "stream",
     "text": [
      "\r                                                                               \r\r 63% (4850 of 7655) |#############        | Elapsed Time: 0:00:34 ETA:  0:00:19"
     ]
    },
    {
     "name": "stderr",
     "output_type": "stream",
     "text": [
      "\r                                                                               \r\r 64% (4900 of 7655) |#############        | Elapsed Time: 0:00:34 ETA:  0:00:19"
     ]
    },
    {
     "name": "stderr",
     "output_type": "stream",
     "text": [
      "\r                                                                               \r\r 64% (4950 of 7655) |#############        | Elapsed Time: 0:00:35 ETA:  0:00:18"
     ]
    },
    {
     "name": "stderr",
     "output_type": "stream",
     "text": [
      "\r                                                                               \r\r 65% (5000 of 7655) |#############        | Elapsed Time: 0:00:35 ETA:  0:00:18"
     ]
    },
    {
     "name": "stderr",
     "output_type": "stream",
     "text": [
      "\r                                                                               \r\r 65% (5050 of 7655) |#############        | Elapsed Time: 0:00:35 ETA:  0:00:18"
     ]
    },
    {
     "name": "stderr",
     "output_type": "stream",
     "text": [
      "\r                                                                               \r\r 66% (5100 of 7655) |#############        | Elapsed Time: 0:00:36 ETA:  0:00:17"
     ]
    },
    {
     "name": "stderr",
     "output_type": "stream",
     "text": [
      "\r                                                                               \r\r 67% (5150 of 7655) |##############       | Elapsed Time: 0:00:36 ETA:  0:00:17"
     ]
    },
    {
     "name": "stderr",
     "output_type": "stream",
     "text": [
      "\r                                                                               \r\r 67% (5200 of 7655) |##############       | Elapsed Time: 0:00:36 ETA:  0:00:16"
     ]
    },
    {
     "name": "stderr",
     "output_type": "stream",
     "text": [
      "\r                                                                               \r\r 68% (5250 of 7655) |##############       | Elapsed Time: 0:00:37 ETA:  0:00:16"
     ]
    },
    {
     "name": "stderr",
     "output_type": "stream",
     "text": [
      "\r                                                                               \r\r 69% (5300 of 7655) |##############       | Elapsed Time: 0:00:37 ETA:  0:00:16"
     ]
    },
    {
     "name": "stderr",
     "output_type": "stream",
     "text": [
      "\r                                                                               \r\r 69% (5350 of 7655) |##############       | Elapsed Time: 0:00:37 ETA:  0:00:15"
     ]
    },
    {
     "name": "stderr",
     "output_type": "stream",
     "text": [
      "\r                                                                               \r\r 70% (5400 of 7655) |##############       | Elapsed Time: 0:00:38 ETA:  0:00:15"
     ]
    },
    {
     "name": "stderr",
     "output_type": "stream",
     "text": [
      "\r                                                                               \r\r 71% (5450 of 7655) |##############       | Elapsed Time: 0:00:38 ETA:  0:00:15"
     ]
    },
    {
     "name": "stderr",
     "output_type": "stream",
     "text": [
      "\r                                                                               \r\r 71% (5500 of 7655) |###############      | Elapsed Time: 0:00:38 ETA:  0:00:14"
     ]
    },
    {
     "name": "stderr",
     "output_type": "stream",
     "text": [
      "\r                                                                               \r\r 72% (5550 of 7655) |###############      | Elapsed Time: 0:00:39 ETA:  0:00:14"
     ]
    },
    {
     "name": "stderr",
     "output_type": "stream",
     "text": [
      "\r                                                                               \r\r 73% (5600 of 7655) |###############      | Elapsed Time: 0:00:39 ETA:  0:00:14"
     ]
    },
    {
     "name": "stderr",
     "output_type": "stream",
     "text": [
      "\r                                                                               \r\r 73% (5650 of 7655) |###############      | Elapsed Time: 0:00:39 ETA:  0:00:13"
     ]
    },
    {
     "name": "stderr",
     "output_type": "stream",
     "text": [
      "\r                                                                               \r\r 74% (5700 of 7655) |###############      | Elapsed Time: 0:00:40 ETA:  0:00:13"
     ]
    },
    {
     "name": "stderr",
     "output_type": "stream",
     "text": [
      "\r                                                                               \r\r 75% (5750 of 7655) |###############      | Elapsed Time: 0:00:40 ETA:  0:00:13"
     ]
    },
    {
     "name": "stderr",
     "output_type": "stream",
     "text": [
      "\r                                                                               \r\r 75% (5800 of 7655) |###############      | Elapsed Time: 0:00:40 ETA:  0:00:12"
     ]
    },
    {
     "name": "stderr",
     "output_type": "stream",
     "text": [
      "\r                                                                               \r\r 76% (5850 of 7655) |################     | Elapsed Time: 0:00:41 ETA:  0:00:12"
     ]
    },
    {
     "name": "stderr",
     "output_type": "stream",
     "text": [
      "\r                                                                               \r\r 77% (5900 of 7655) |################     | Elapsed Time: 0:00:41 ETA:  0:00:11"
     ]
    },
    {
     "name": "stderr",
     "output_type": "stream",
     "text": [
      "\r                                                                               \r\r 77% (5950 of 7655) |################     | Elapsed Time: 0:00:41 ETA:  0:00:11"
     ]
    },
    {
     "name": "stderr",
     "output_type": "stream",
     "text": [
      "\r                                                                               \r\r 78% (6000 of 7655) |################     | Elapsed Time: 0:00:42 ETA:  0:00:11"
     ]
    },
    {
     "name": "stderr",
     "output_type": "stream",
     "text": [
      "\r                                                                               \r\r 79% (6050 of 7655) |################     | Elapsed Time: 0:00:42 ETA:  0:00:10"
     ]
    },
    {
     "name": "stderr",
     "output_type": "stream",
     "text": [
      "\r                                                                               \r\r 79% (6100 of 7655) |################     | Elapsed Time: 0:00:42 ETA:  0:00:10"
     ]
    },
    {
     "name": "stderr",
     "output_type": "stream",
     "text": [
      "\r                                                                               \r\r 80% (6150 of 7655) |################     | Elapsed Time: 0:00:43 ETA:  0:00:10"
     ]
    },
    {
     "name": "stderr",
     "output_type": "stream",
     "text": [
      "\r                                                                               \r\r 80% (6200 of 7655) |#################    | Elapsed Time: 0:00:43 ETA:  0:00:09"
     ]
    },
    {
     "name": "stderr",
     "output_type": "stream",
     "text": [
      "\r                                                                               \r\r 81% (6250 of 7655) |#################    | Elapsed Time: 0:00:43 ETA:  0:00:09"
     ]
    },
    {
     "name": "stderr",
     "output_type": "stream",
     "text": [
      "\r                                                                               \r\r 82% (6300 of 7655) |#################    | Elapsed Time: 0:00:44 ETA:  0:00:09"
     ]
    },
    {
     "name": "stderr",
     "output_type": "stream",
     "text": [
      "\r                                                                               \r\r 82% (6350 of 7655) |#################    | Elapsed Time: 0:00:44 ETA:  0:00:08"
     ]
    },
    {
     "name": "stderr",
     "output_type": "stream",
     "text": [
      "\r                                                                               \r\r 83% (6400 of 7655) |#################    | Elapsed Time: 0:00:44 ETA:  0:00:08"
     ]
    },
    {
     "name": "stderr",
     "output_type": "stream",
     "text": [
      "\r                                                                               \r\r 84% (6450 of 7655) |#################    | Elapsed Time: 0:00:45 ETA:  0:00:08"
     ]
    },
    {
     "name": "stderr",
     "output_type": "stream",
     "text": [
      "\r                                                                               \r\r 84% (6500 of 7655) |#################    | Elapsed Time: 0:00:45 ETA:  0:00:07"
     ]
    },
    {
     "name": "stderr",
     "output_type": "stream",
     "text": [
      "\r                                                                               \r\r 85% (6550 of 7655) |#################    | Elapsed Time: 0:00:45 ETA:  0:00:07"
     ]
    },
    {
     "name": "stderr",
     "output_type": "stream",
     "text": [
      "\r                                                                               \r\r 86% (6600 of 7655) |##################   | Elapsed Time: 0:00:46 ETA:  0:00:07"
     ]
    },
    {
     "name": "stderr",
     "output_type": "stream",
     "text": [
      "\r                                                                               \r\r 86% (6650 of 7655) |##################   | Elapsed Time: 0:00:46 ETA:  0:00:06"
     ]
    },
    {
     "name": "stderr",
     "output_type": "stream",
     "text": [
      "\r                                                                               \r\r 87% (6700 of 7655) |##################   | Elapsed Time: 0:00:46 ETA:  0:00:06"
     ]
    },
    {
     "name": "stderr",
     "output_type": "stream",
     "text": [
      "\r                                                                               \r\r 88% (6750 of 7655) |##################   | Elapsed Time: 0:00:47 ETA:  0:00:06"
     ]
    },
    {
     "name": "stderr",
     "output_type": "stream",
     "text": [
      "\r                                                                               \r\r 88% (6800 of 7655) |##################   | Elapsed Time: 0:00:47 ETA:  0:00:05"
     ]
    },
    {
     "name": "stderr",
     "output_type": "stream",
     "text": [
      "\r                                                                               \r\r 89% (6850 of 7655) |##################   | Elapsed Time: 0:00:47 ETA:  0:00:05"
     ]
    },
    {
     "name": "stderr",
     "output_type": "stream",
     "text": [
      "\r                                                                               \r\r 90% (6900 of 7655) |##################   | Elapsed Time: 0:00:48 ETA:  0:00:05"
     ]
    },
    {
     "name": "stderr",
     "output_type": "stream",
     "text": [
      "\r                                                                               \r\r 90% (6950 of 7655) |###################  | Elapsed Time: 0:00:48 ETA:  0:00:04"
     ]
    },
    {
     "name": "stderr",
     "output_type": "stream",
     "text": [
      "\r                                                                               \r\r 91% (7000 of 7655) |###################  | Elapsed Time: 0:00:48 ETA:  0:00:04"
     ]
    },
    {
     "name": "stderr",
     "output_type": "stream",
     "text": [
      "\r                                                                               \r\r 92% (7050 of 7655) |###################  | Elapsed Time: 0:00:49 ETA:  0:00:04"
     ]
    },
    {
     "name": "stderr",
     "output_type": "stream",
     "text": [
      "\r                                                                               \r\r 92% (7100 of 7655) |###################  | Elapsed Time: 0:00:49 ETA:  0:00:03"
     ]
    },
    {
     "name": "stderr",
     "output_type": "stream",
     "text": [
      "\r                                                                               \r\r 93% (7150 of 7655) |###################  | Elapsed Time: 0:00:49 ETA:  0:00:03"
     ]
    },
    {
     "name": "stderr",
     "output_type": "stream",
     "text": [
      "\r                                                                               \r\r 94% (7200 of 7655) |###################  | Elapsed Time: 0:00:50 ETA:  0:00:03"
     ]
    },
    {
     "name": "stderr",
     "output_type": "stream",
     "text": [
      "\r                                                                               \r\r 94% (7250 of 7655) |###################  | Elapsed Time: 0:00:50 ETA:  0:00:02"
     ]
    },
    {
     "name": "stderr",
     "output_type": "stream",
     "text": [
      "\r                                                                               \r\r 95% (7300 of 7655) |#################### | Elapsed Time: 0:00:50 ETA:  0:00:02"
     ]
    },
    {
     "name": "stderr",
     "output_type": "stream",
     "text": [
      "\r                                                                               \r\r 96% (7350 of 7655) |#################### | Elapsed Time: 0:00:51 ETA:  0:00:02"
     ]
    },
    {
     "name": "stderr",
     "output_type": "stream",
     "text": [
      "\r                                                                               \r\r 96% (7400 of 7655) |#################### | Elapsed Time: 0:00:51 ETA:  0:00:01"
     ]
    },
    {
     "name": "stderr",
     "output_type": "stream",
     "text": [
      "\r                                                                               \r\r 97% (7450 of 7655) |#################### | Elapsed Time: 0:00:51 ETA:  0:00:01"
     ]
    },
    {
     "name": "stderr",
     "output_type": "stream",
     "text": [
      "\r                                                                               \r\r 97% (7500 of 7655) |#################### | Elapsed Time: 0:00:52 ETA:  0:00:01"
     ]
    },
    {
     "name": "stderr",
     "output_type": "stream",
     "text": [
      "\r                                                                               \r\r 98% (7550 of 7655) |#################### | Elapsed Time: 0:00:52 ETA:  0:00:00"
     ]
    },
    {
     "name": "stderr",
     "output_type": "stream",
     "text": [
      "\r                                                                               \r\r 99% (7600 of 7655) |#################### | Elapsed Time: 0:00:52 ETA:  0:00:00"
     ]
    },
    {
     "name": "stderr",
     "output_type": "stream",
     "text": [
      "\r                                                                               \r\r 99% (7650 of 7655) |#################### | Elapsed Time: 0:00:53 ETA:  0:00:00"
     ]
    },
    {
     "name": "stderr",
     "output_type": "stream",
     "text": [
      "\r                                                                               \r\r100% (7655 of 7655) |#####################| Elapsed Time: 0:00:53 ETA:  0:00:00"
     ]
    },
    {
     "name": "stdout",
     "output_type": "stream",
     "text": [
      "7655\n"
     ]
    }
   ],
   "source": [
    "channel_items = youtube.getChannelItems(roosterteeth, verbose = True)\n",
    "print(len(channel_items))"
   ]
  },
  {
   "cell_type": "code",
   "execution_count": 4,
   "metadata": {},
   "outputs": [
    {
     "name": "stdout",
     "output_type": "stream",
     "text": [
      "{'channelId': 'UCzH3iADRIq1IJlIXjfNgTpA',\n 'channelName': 'Rooster Teeth',\n 'itemDescription': \"Ruby, Weiss, Blake, and Yang are each entangled in journeys of their own, but they all share one destination: Haven Academy. Whether it's the promise of ancient relics, mystical \"\n                    \"maidens, or simply more power, it's clear that the stage for the next great battle for Remnant has been chosen. The question is, with so many players in this game, who's going \"\n                    'to come out on top? Join FIRST to watch episodes early: http://bit.ly/2wf5zPJ\\n'\n                    '\\n'\n                    '» Get your Rooster Teeth merch: http://bit.ly/2uRi44x\\n'\n                    '» Subscribe: http://bit.ly/13y3Gum\\n'\n                    '\\n'\n                    'About RWBY Volume 5:\\n'\n                    \"Ruby, Weiss, Blake, and Yang are each entangled in journeys of their own, but they all share one destination: Haven Academy. Whether it's the promise of ancient relics, mystical \"\n                    \"maidens, or simply more power, it's clear that the stage for the next great battle for Remnant has been chosen. The question is, with so many players in this game, who's going \"\n                    'to come out on top?\\n'\n                    '\\n'\n                    'More Rooster Teeth:\\n'\n                    '» Achievement Hunter: http://bit.ly/AHYTChannel \\n'\n                    \"» Let's Play: http://bit.ly/1BuRgl1 \\n\"\n                    '» Red vs. Blue: http://bit.ly/RvBChannel\\n'\n                    '\\n'\n                    'https://www.youtube.com/user/RoosterTeeth',\n 'itemId': 'BrlaeR8dFbw',\n 'itemKind': 'video',\n 'itemName': 'RWBY Volume 5: Chapter 11 - The More the Merrier | Rooster Teeth',\n 'itemPublishDate': '2018-01-06T16:00:01.000Z',\n 'playlistId': 'UUzH3iADRIq1IJlIXjfNgTpA'}\n"
     ]
    }
   ],
   "source": [
    "pprint(channel_items[0].toStandard())"
   ]
  },
  {
   "cell_type": "code",
   "execution_count": null,
   "metadata": {},
   "outputs": [],
   "source": []
  }
 ],
 "metadata": {
  "kernelspec": {
   "display_name": "Python 2",
   "language": "python",
   "name": "python2"
  },
  "language_info": {
   "codemirror_mode": {
    "name": "ipython",
    "version": 2
   },
   "file_extension": ".py",
   "mimetype": "text/x-python",
   "name": "python",
   "nbconvert_exporter": "python",
   "pygments_lexer": "ipython2",
   "version": "2.7.6"
  }
 },
 "nbformat": 4,
 "nbformat_minor": 0
}
