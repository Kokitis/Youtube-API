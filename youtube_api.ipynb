{
 "cells": [
  {
   "cell_type": "code",
   "execution_count": 1,
   "metadata": {
    "collapsed": true
   },
   "outputs": [
    {
     "name": "stdout",
     "output_type": "stream",
     "text": [
      "{'etag': '\"S8kisgyDEblalhHF9ooXPiFFrkc/YAWvvlMrLR-Q-H1Zz8PqHxVyoKQ\"',\n 'items': [{'etag': '\"S8kisgyDEblalhHF9ooXPiFFrkc/x_Ty_jaGdeFF-Y2bSzhZ-IR-5qI\"',\n            'id': 'p9RKAalhtZM',\n            'kind': 'youtube#video',\n            'snippet': {'categoryId': '20',\n                        'channelId': 'UCboMX_UNgaPBsUOIgasn3-Q',\n                        'channelTitle': 'Funhaus',\n                        'description': 'Watch all of our back catalog 24/7 '\n                                       'together as a community (so you can '\n                                       'make fun of us), and keep your eyes '\n                                       'peeled for special surprises '\n                                       'throughout the stream (just little '\n                                       'bumpers we shot). \\n'\n                                       '\\n'\n                                       'Eventually, we want to turn this into '\n                                       'something where users can vote what to '\n                                       'watch next AND we want to be able to '\n                                       'cut in with brand new live content as '\n                                       'well.\\n'\n                                       '\\n'\n                                       'Enjoy everyone!',\n                        'liveBroadcastContent': 'live',\n                        'localized': {'description': 'Watch all of our back '\n                                                     'catalog 24/7 together as '\n                                                     'a community (so you can '\n                                                     'make fun of us), and '\n                                                     'keep your eyes peeled '\n                                                     'for special surprises '\n                                                     'throughout the stream '\n                                                     '(just little bumpers we '\n                                                     'shot). \\n'\n                                                     '\\n'\n                                                     'Eventually, we want to '\n                                                     'turn this into something '\n                                                     'where users can vote '\n                                                     'what to watch next AND '\n                                                     'we want to be able to '\n                                                     'cut in with brand new '\n                                                     'live content as well.\\n'\n                                                     '\\n'\n                                                     'Enjoy everyone!',\n                                      'title': 'Funhaus TV! (check the '\n                                               'description)'},\n                        'publishedAt': '2017-12-18T23:05:06.000Z',\n                        'tags': ['funhaus', 'live'],\n                        'thumbnails': {'default': {'height': 90,\n                                                   'url': 'https://i.ytimg.com/vi/p9RKAalhtZM/default_live.jpg',\n                                                   'width': 120},\n                                       'high': {'height': 360,\n                                                'url': 'https://i.ytimg.com/vi/p9RKAalhtZM/hqdefault_live.jpg',\n                                                'width': 480},\n                                       'maxres': {'height': 720,\n                                                  'url': 'https://i.ytimg.com/vi/p9RKAalhtZM/maxresdefault_live.jpg',\n                                                  'width': 1280},\n                                       'medium': {'height': 180,\n                                                  'url': 'https://i.ytimg.com/vi/p9RKAalhtZM/mqdefault_live.jpg',\n                                                  'width': 320},\n                                       'standard': {'height': 480,\n                                                    'url': 'https://i.ytimg.com/vi/p9RKAalhtZM/sddefault_live.jpg',\n                                                    'width': 640}},\n                        'title': 'Funhaus TV! (check the description)'},\n            'statistics': {'commentCount': '0',\n                           'dislikeCount': '444',\n                           'favoriteCount': '0',\n                           'likeCount': '11931',\n                           'viewCount': '1080382'}}],\n 'kind': 'youtube#videoListResponse',\n 'pageInfo': {'resultsPerPage': 1, 'totalResults': 1}}\n<class 'requests.models.Response'>\nFinished!\n"
     ]
    }
   ],
   "source": [
    "from package import *\n",
    "import requests\n",
    "from pprint import pprint\n",
    "\n",
    "class CallApi:\n",
    "    endpoints = {\n",
    "        'videos': 'https://www.googleapis.com/youtube/v3/videos',\n",
    "        'searchs': 'https://www.googleapis.com/youtube/v3/search',\n",
    "        'channels': 'https://www.googleapis.com/youtube/v3/channels',\n",
    "        'playlists': 'https://www.googleapis.com/youtube/v3/playlists',\n",
    "        'playlistItems': 'https://www.googleapis.com/youtube/v3/playlistItems',\n",
    "        'activities': 'https://www.googleapis.com/youtube/v3/activities',\n",
    "        'watch': 'http://www.youtube.com/watch'\n",
    "    }\n",
    "    def __init__(self, **kwargs):\n",
    "        self.api_key = github.youtube_api_key\n",
    "        \n",
    "    def request(self, endpoint, **parameters):\n",
    "        if not endpoint.endswith('s'): endpoint += 's'\n",
    "        url = self.endpoints[endpoint]\n",
    "\n",
    "        parameters['key'] = self.api_key\n",
    "\n",
    "        response = requests.get(url, params = parameters)\n",
    "        return response\n",
    "test_api = CallApi()\n",
    "youtube = YouTube(api_key = github.youtube_api_key)\n",
    "\n",
    "playlist_parameters = {\n",
    "    'id': \"PL1cXh4tWqmsEQPeLEJ5V3k5knt-X9k043\",\n",
    "    'maxResults': 50,\n",
    "    'part': \"snippet,contentDetails\",\n",
    "}\n",
    "search_parameters = {\n",
    "    'playlistId': playlist_parameters['id'],\n",
    "    'maxResults': 50,\n",
    "    'part': 'snippet',\n",
    "}\n",
    "channel_parameters = {\n",
    "    'id':'UCkxctb0jr8vwa4Do6c6su0Q',\n",
    "    'part': \"snippet,statistics,topicDetails\"\n",
    "}\n",
    "video_parameters = {\n",
    "    'id': 'p9RKAalhtZM',\n",
    "    'part': 'snippet,statistics,topicDetails'\n",
    "}\n",
    "\n",
    "response = test_api.request('videos', **video_parameters)\n",
    "\n",
    "pprint(response.json())\n",
    "print(type(response))\n",
    "print(\"Finished!\")"
   ]
  },
  {
   "cell_type": "code",
   "execution_count": 2,
   "metadata": {},
   "outputs": [
    {
     "name": "stdout",
     "output_type": "stream",
     "text": [
      "{'channelId': 'UCboMX_UNgaPBsUOIgasn3-Q',\n 'itemId': 'p9RKAalhtZM',\n 'itemKind': 'video',\n 'videoDescription': 'Watch all of our back catalog 24/7 together as a community (so you can make fun of us), and keep your eyes peeled for special surprises throughout the stream (just little '\n                     'bumpers we shot). \\n'\n                     '\\n'\n                     'Eventually, we want to turn this into something where users can vote what to watch next AND we want to be able to cut in with brand new live content as well.\\n'\n                     '\\n'\n                     'Enjoy everyone!',\n 'videoDislikeCount': 444,\n 'videoDuration': Duration(0),\n 'videoId': 'p9RKAalhtZM',\n 'videoLikeCount': 11931,\n 'videoName': 'Funhaus TV! (check the description)',\n 'videoPublishDate': Timestamp(2017, 12, 18, 23, 5, 6),\n 'videoTags': ['funhaus', 'live'],\n 'videoViewCount': 1080382}\n"
     ]
    }
   ],
   "source": [
    "result = youtube.get('videos', video_parameters['id'])\n",
    "pprint(result.toStandard(), width = 200)"
   ]
  },
  {
   "cell_type": "code",
   "execution_count": null,
   "metadata": {},
   "outputs": [],
   "source": []
  }
 ],
 "metadata": {
  "kernelspec": {
   "display_name": "Python 2",
   "language": "python",
   "name": "python2"
  },
  "language_info": {
   "codemirror_mode": {
    "name": "ipython",
    "version": 2
   },
   "file_extension": ".py",
   "mimetype": "text/x-python",
   "name": "python",
   "nbconvert_exporter": "python",
   "pygments_lexer": "ipython2",
   "version": "2.7.6"
  }
 },
 "nbformat": 4,
 "nbformat_minor": 0
}
