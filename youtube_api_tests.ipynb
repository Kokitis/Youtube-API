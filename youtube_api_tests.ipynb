{
 "cells": [
  {
   "cell_type": "code",
   "execution_count": 1,
   "metadata": {
    "ExecuteTime": {
     "end_time": "2018-02-26T05:58:08.076874Z",
     "start_time": "2018-02-26T05:58:07.136434Z"
    }
   },
   "outputs": [
    {
     "name": "stdout",
     "output_type": "stream",
     "text": [
      "Finished!\n"
     ]
    }
   ],
   "source": [
    "from package import *\n",
    "\n",
    "import requests\n",
    "from pprint import pprint\n",
    "from functools import partial\n",
    "import pandas\n",
    "import matplotlib.pyplot as plt\n",
    "import os\n",
    "import sys\n",
    "\n",
    "github_folder = os.path.join(os.getenv('USERPROFILE'), 'Documents', 'Github', 'python-youtube-api')\n",
    "sys.path.append(github_folder)\n",
    "\n",
    "pprint = partial(pprint, width = 120)\n",
    "\n",
    "#youtube = YouTubeDatabase(github.youtube_api_key, 'youtube_database')\n",
    "killian = \"UCjdQaSJCYS4o2eG93MvIwqg\"\n",
    "test_video = \"836Lv_swaCk\"\n",
    "roosterteeth = 'UCzH3iADRIq1IJlIXjfNgTpA'\n",
    "vs_playlist = \"PLTur7oukosPH7Kvex9-rUiZgVIVGt6C--\"\n",
    "youtube = YouTube(github.youtube_api_key)\n",
    "youtubedb = YoutubeDatabase(youtube, 'youtube_database')\n",
    "print(\"Finished!\")\n"
   ]
  },
  {
   "cell_type": "code",
   "execution_count": 2,
   "metadata": {
    "ExecuteTime": {
     "end_time": "2018-02-26T10:31:50.130836Z",
     "start_time": "2018-02-26T05:58:08.858375Z"
    },
    "scrolled": false
   },
   "outputs": [
    {
     "name": "stdout",
     "output_type": "stream",
     "text": [
      "Importing 'A+Start' with 447 videos into the database.\n"
     ]
    },
    {
     "name": "stderr",
     "output_type": "stream",
     "text": [
      " 83% (374 of 447) |###################    | Elapsed Time: 0:00:00 ETA:  0:00:00"
     ]
    },
    {
     "name": "stdout",
     "output_type": "stream",
     "text": [
      "Importing 'AI and Games' with 167 videos into the database.\n"
     ]
    },
    {
     "name": "stderr",
     "output_type": "stream",
     "text": [
      " 79% (132 of 167) |##################     | Elapsed Time: 0:00:00 ETA:  0:00:00"
     ]
    },
    {
     "name": "stdout",
     "output_type": "stream",
     "text": [
      "Importing 'Abroad in Japan' with 129 videos into the database.\n"
     ]
    },
    {
     "name": "stderr",
     "output_type": "stream",
     "text": [
      " 55% (72 of 129) |#############           | Elapsed Time: 0:00:00 ETA:  0:00:00"
     ]
    },
    {
     "name": "stdout",
     "output_type": "stream",
     "text": [
      "Importing 'Achievement Hunter' with 1496 videos into the database.\n"
     ]
    },
    {
     "name": "stderr",
     "output_type": "stream",
     "text": [
      " 91% (1364 of 1496) |###################  | Elapsed Time: 0:00:00 ETA:  0:00:00"
     ]
    },
    {
     "name": "stdout",
     "output_type": "stream",
     "text": [
      "Importing 'Ahoy' with 277 videos into the database.\n"
     ]
    },
    {
     "name": "stderr",
     "output_type": "stream",
     "text": [
      " 91% (253 of 277) |#####################  | Elapsed Time: 0:00:00 ETA:  0:00:00"
     ]
    },
    {
     "name": "stdout",
     "output_type": "stream",
     "text": [
      "Cannot import the channel.\n",
      "Importing 'ApollosLibrary' with 89 videos into the database.\n"
     ]
    },
    {
     "name": "stderr",
     "output_type": "stream",
     "text": [
      " 98% (88 of 89) |######################## | Elapsed Time: 0:00:19 ETA:  0:00:00"
     ]
    },
    {
     "name": "stdout",
     "output_type": "stream",
     "text": [
      "Importing 'Arumba' with 11218 videos into the database.\n"
     ]
    },
    {
     "name": "stderr",
     "output_type": "stream",
     "text": [
      " 99% (11217 of 11218) |################## | Elapsed Time: 0:40:11 ETA:  0:00:00"
     ]
    },
    {
     "name": "stdout",
     "output_type": "stream",
     "text": [
      "Importing 'Ashwin Ramdas' with 46 videos into the database.\n"
     ]
    },
    {
     "name": "stderr",
     "output_type": "stream",
     "text": [
      " 97% (45 of 46) |######################## | Elapsed Time: 0:00:11 ETA:  0:00:00"
     ]
    },
    {
     "name": "stdout",
     "output_type": "stream",
     "text": [
      "Importing 'Beaglerush' with 414 videos into the database.\n"
     ]
    },
    {
     "name": "stderr",
     "output_type": "stream",
     "text": [
      " 99% (413 of 414) |###################### | Elapsed Time: 0:01:42 ETA:  0:00:00"
     ]
    },
    {
     "name": "stdout",
     "output_type": "stream",
     "text": [
      "Importing 'Bear & Smakerel' with 110 videos into the database.\n"
     ]
    },
    {
     "name": "stderr",
     "output_type": "stream",
     "text": [
      " 99% (109 of 110) |###################### | Elapsed Time: 0:00:24 ETA:  0:00:00"
     ]
    },
    {
     "name": "stdout",
     "output_type": "stream",
     "text": [
      "Importing 'Beta64' with 86 videos into the database.\n"
     ]
    },
    {
     "name": "stderr",
     "output_type": "stream",
     "text": [
      " 98% (85 of 86) |######################## | Elapsed Time: 0:00:21 ETA:  0:00:00"
     ]
    },
    {
     "name": "stdout",
     "output_type": "stream",
     "text": [
      "Importing 'Brandon Foltz' with 149 videos into the database.\n"
     ]
    },
    {
     "name": "stderr",
     "output_type": "stream",
     "text": [
      " 99% (148 of 149) |###################### | Elapsed Time: 0:00:35 ETA:  0:00:00"
     ]
    },
    {
     "name": "stdout",
     "output_type": "stream",
     "text": [
      "Importing 'BroScienceLife' with 123 videos into the database.\n"
     ]
    },
    {
     "name": "stderr",
     "output_type": "stream",
     "text": [
      " 99% (122 of 123) |###################### | Elapsed Time: 0:00:26 ETA:  0:00:00"
     ]
    },
    {
     "name": "stdout",
     "output_type": "stream",
     "text": [
      "Importing 'BrownMan' with 1067 videos into the database.\n"
     ]
    },
    {
     "name": "stderr",
     "output_type": "stream",
     "text": [
      " 99% (1066 of 1067) |#################### | Elapsed Time: 0:04:30 ETA:  0:00:00"
     ]
    },
    {
     "name": "stdout",
     "output_type": "stream",
     "text": [
      "Importing 'CGP Grey' with 120 videos into the database.\n"
     ]
    },
    {
     "name": "stderr",
     "output_type": "stream",
     "text": [
      " 99% (119 of 120) |###################### | Elapsed Time: 0:00:27 ETA:  0:00:00"
     ]
    },
    {
     "name": "stdout",
     "output_type": "stream",
     "text": [
      "Importing 'CaspianReport' with 194 videos into the database.\n"
     ]
    },
    {
     "name": "stderr",
     "output_type": "stream",
     "text": [
      " 99% (193 of 194) |###################### | Elapsed Time: 0:00:49 ETA:  0:00:00"
     ]
    },
    {
     "name": "stdout",
     "output_type": "stream",
     "text": [
      "Importing 'Ceave Gaming' with 125 videos into the database.\n"
     ]
    },
    {
     "name": "stderr",
     "output_type": "stream",
     "text": [
      " 99% (124 of 125) |###################### | Elapsed Time: 0:00:30 ETA:  0:00:00"
     ]
    },
    {
     "name": "stdout",
     "output_type": "stream",
     "text": [
      "Importing 'CinemaSins' with 604 videos into the database.\n"
     ]
    },
    {
     "name": "stderr",
     "output_type": "stream",
     "text": [
      " 99% (603 of 604) |###################### | Elapsed Time: 0:02:14 ETA:  0:00:00"
     ]
    },
    {
     "name": "stdout",
     "output_type": "stream",
     "text": [
      "Importing 'Crouton Crackerjacks' with 228 videos into the database.\n"
     ]
    },
    {
     "name": "stderr",
     "output_type": "stream",
     "text": [
      " 99% (227 of 228) |###################### | Elapsed Time: 0:00:45 ETA:  0:00:00"
     ]
    },
    {
     "name": "stdout",
     "output_type": "stream",
     "text": [
      "Importing 'DefendTheHouse' with 495 videos into the database.\n"
     ]
    },
    {
     "name": "stderr",
     "output_type": "stream",
     "text": [
      " 99% (494 of 495) |###################### | Elapsed Time: 0:01:34 ETA:  0:00:00"
     ]
    },
    {
     "name": "stdout",
     "output_type": "stream",
     "text": [
      "Importing 'DidYouKnowGaming?' with 357 videos into the database.\n"
     ]
    },
    {
     "name": "stderr",
     "output_type": "stream",
     "text": [
      " 99% (356 of 357) |###################### | Elapsed Time: 0:01:02 ETA:  0:00:00"
     ]
    },
    {
     "name": "stdout",
     "output_type": "stream",
     "text": [
      "Importing 'Vic And Hope' with 883 videos into the database.\n"
     ]
    },
    {
     "name": "stderr",
     "output_type": "stream",
     "text": [
      " 99% (882 of 883) |###################### | Elapsed Time: 0:02:54 ETA:  0:00:00"
     ]
    },
    {
     "name": "stdout",
     "output_type": "stream",
     "text": [
      "Importing 'Digibro' with 311 videos into the database.\n"
     ]
    },
    {
     "name": "stderr",
     "output_type": "stream",
     "text": [
      " 99% (310 of 311) |###################### | Elapsed Time: 0:00:57 ETA:  0:00:00"
     ]
    },
    {
     "name": "stdout",
     "output_type": "stream",
     "text": [
      "Importing 'Digibro After Dark' with 597 videos into the database.\n"
     ]
    },
    {
     "name": "stderr",
     "output_type": "stream",
     "text": [
      " 99% (596 of 597) |###################### | Elapsed Time: 0:01:54 ETA:  0:00:00"
     ]
    },
    {
     "name": "stdout",
     "output_type": "stream",
     "text": [
      "Importing 'DigitalFoundry' with 2410 videos into the database.\n"
     ]
    },
    {
     "name": "stderr",
     "output_type": "stream",
     "text": [
      " 99% (2409 of 2410) |#################### | Elapsed Time: 0:07:44 ETA:  0:00:00"
     ]
    },
    {
     "name": "stdout",
     "output_type": "stream",
     "text": [
      "Importing 'Drew Durnil' with 3366 videos into the database.\n"
     ]
    },
    {
     "name": "stderr",
     "output_type": "stream",
     "text": [
      " 99% (3365 of 3366) |#################### | Elapsed Time: 0:11:11 ETA:  0:00:00"
     ]
    },
    {
     "name": "stdout",
     "output_type": "stream",
     "text": [
      "Importing 'Endless Jess' with 105 videos into the database.\n"
     ]
    },
    {
     "name": "stderr",
     "output_type": "stream",
     "text": [
      " 99% (104 of 105) |###################### | Elapsed Time: 0:00:19 ETA:  0:00:00"
     ]
    },
    {
     "name": "stdout",
     "output_type": "stream",
     "text": [
      "Importing 'Epic Game Music' with 349 videos into the database.\n"
     ]
    },
    {
     "name": "stderr",
     "output_type": "stream",
     "text": [
      " 99% (348 of 349) |###################### | Elapsed Time: 0:01:07 ETA:  0:00:00"
     ]
    },
    {
     "name": "stdout",
     "output_type": "stream",
     "text": [
      "Importing 'Errant Signal' with 118 videos into the database.\n"
     ]
    },
    {
     "name": "stderr",
     "output_type": "stream",
     "text": [
      " 99% (117 of 118) |###################### | Elapsed Time: 0:00:20 ETA:  0:00:00"
     ]
    },
    {
     "name": "stdout",
     "output_type": "stream",
     "text": [
      "Importing 'Escapist' with 5021 videos into the database.\n"
     ]
    },
    {
     "name": "stderr",
     "output_type": "stream",
     "text": [
      " 99% (5020 of 5021) |#################### | Elapsed Time: 0:21:28 ETA:  0:00:00"
     ]
    },
    {
     "name": "stdout",
     "output_type": "stream",
     "text": [
      "Importing 'Every Frame a Painting' with 28 videos into the database.\n"
     ]
    },
    {
     "name": "stderr",
     "output_type": "stream",
     "text": [
      " 96% (27 of 28) |######################## | Elapsed Time: 0:00:06 ETA:  0:00:00"
     ]
    },
    {
     "name": "stdout",
     "output_type": "stream",
     "text": [
      "Importing 'Explanation Point' with 15 videos into the database.\n"
     ]
    },
    {
     "name": "stderr",
     "output_type": "stream",
     "text": [
      " 93% (14 of 15) |#######################  | Elapsed Time: 0:00:03 ETA:  0:00:00"
     ]
    },
    {
     "name": "stdout",
     "output_type": "stream",
     "text": [
      "Importing 'Fun with Guru' with 292 videos into the database.\n"
     ]
    },
    {
     "name": "stderr",
     "output_type": "stream",
     "text": [
      " 99% (291 of 292) |###################### | Elapsed Time: 0:01:13 ETA:  0:00:00"
     ]
    },
    {
     "name": "stdout",
     "output_type": "stream",
     "text": [
      "Importing 'Funhaus' with 1571 videos into the database.\n"
     ]
    },
    {
     "name": "stderr",
     "output_type": "stream",
     "text": [
      " 99% (1570 of 1571) |#################### | Elapsed Time: 0:06:25 ETA:  0:00:00"
     ]
    },
    {
     "name": "stdout",
     "output_type": "stream",
     "text": [
      "Importing 'Game Sack' with 242 videos into the database.\n"
     ]
    },
    {
     "name": "stderr",
     "output_type": "stream",
     "text": [
      " 99% (241 of 242) |###################### | Elapsed Time: 0:00:58 ETA:  0:00:00"
     ]
    },
    {
     "name": "stdout",
     "output_type": "stream",
     "text": [
      "Importing 'Game Soup Analysis' with 30 videos into the database.\n"
     ]
    },
    {
     "name": "stderr",
     "output_type": "stream",
     "text": [
      " 96% (29 of 30) |######################## | Elapsed Time: 0:00:07 ETA:  0:00:00"
     ]
    },
    {
     "name": "stdout",
     "output_type": "stream",
     "text": [
      "Importing 'Gamechamp3000' with 3312 videos into the database.\n"
     ]
    },
    {
     "name": "stderr",
     "output_type": "stream",
     "text": [
      " 99% (3311 of 3312) |#################### | Elapsed Time: 0:12:53 ETA:  0:00:00"
     ]
    },
    {
     "name": "stdout",
     "output_type": "stream",
     "text": [
      "Importing 'GameplayOnly - Trailers & Gameplay' with 3105 videos into the database.\n"
     ]
    },
    {
     "name": "stderr",
     "output_type": "stream",
     "text": [
      " 99% (3104 of 3105) |#################### | Elapsed Time: 0:11:28 ETA:  0:00:00"
     ]
    },
    {
     "name": "stdout",
     "output_type": "stream",
     "text": [
      "Importing 'Gaming Historian' with 122 videos into the database.\n"
     ]
    },
    {
     "name": "stderr",
     "output_type": "stream",
     "text": [
      " 99% (121 of 122) |###################### | Elapsed Time: 0:00:24 ETA:  0:00:00"
     ]
    },
    {
     "name": "stdout",
     "output_type": "stream",
     "text": [
      "Importing 'GreenKokiri54' with 204 videos into the database.\n"
     ]
    },
    {
     "name": "stderr",
     "output_type": "stream",
     "text": [
      " 99% (203 of 204) |###################### | Elapsed Time: 0:00:42 ETA:  0:00:00"
     ]
    },
    {
     "name": "stdout",
     "output_type": "stream",
     "text": [
      "Importing 'HAWPOfficial' with 157 videos into the database.\n"
     ]
    },
    {
     "name": "stderr",
     "output_type": "stream",
     "text": [
      " 99% (156 of 157) |###################### | Elapsed Time: 0:00:30 ETA:  0:00:00"
     ]
    },
    {
     "name": "stdout",
     "output_type": "stream",
     "text": [
      "Importing 'Hello Internet' with 119 videos into the database.\n"
     ]
    },
    {
     "name": "stderr",
     "output_type": "stream",
     "text": [
      " 99% (118 of 119) |###################### | Elapsed Time: 0:00:24 ETA:  0:00:00"
     ]
    },
    {
     "name": "stdout",
     "output_type": "stream",
     "text": [
      "Importing 'James Willems' with 136 videos into the database.\n"
     ]
    },
    {
     "name": "stderr",
     "output_type": "stream",
     "text": [
      " 99% (135 of 136) |###################### | Elapsed Time: 0:00:29 ETA:  0:00:00"
     ]
    },
    {
     "name": "stdout",
     "output_type": "stream",
     "text": [
      "Importing 'JubyPhonic' with 189 videos into the database.\n"
     ]
    },
    {
     "name": "stderr",
     "output_type": "stream",
     "text": [
      " 99% (188 of 189) |###################### | Elapsed Time: 0:00:38 ETA:  0:00:00"
     ]
    },
    {
     "name": "stdout",
     "output_type": "stream",
     "text": [
      "Importing 'Kilian Experience' with 86 videos into the database.\n"
     ]
    },
    {
     "name": "stderr",
     "output_type": "stream",
     "text": [
      "\r",
      "                                                                               \r",
      "\r",
      "N/A% (0 of 86) |                         | Elapsed Time: 0:00:00 ETA:  --:--:--"
     ]
    },
    {
     "name": "stdout",
     "output_type": "stream",
     "text": [
      "Importing 'Kitten Academy' with 697 videos into the database.\n"
     ]
    },
    {
     "name": "stderr",
     "output_type": "stream",
     "text": [
      " 99% (696 of 697) |###################### | Elapsed Time: 0:02:34 ETA:  0:00:00"
     ]
    },
    {
     "name": "stdout",
     "output_type": "stream",
     "text": [
      "Importing 'Kurzgesagt – In a Nutshell' with 76 videos into the database.\n"
     ]
    },
    {
     "name": "stderr",
     "output_type": "stream",
     "text": [
      " 98% (75 of 76) |######################## | Elapsed Time: 0:00:14 ETA:  0:00:00"
     ]
    },
    {
     "name": "stdout",
     "output_type": "stream",
     "text": [
      "Importing 'LastWeekTonight' with 227 videos into the database.\n"
     ]
    },
    {
     "name": "stderr",
     "output_type": "stream",
     "text": [
      " 99% (226 of 227) |###################### | Elapsed Time: 0:00:42 ETA:  0:00:00"
     ]
    },
    {
     "name": "stdout",
     "output_type": "stream",
     "text": [
      "Importing 'LateNightGaming' with 434 videos into the database.\n"
     ]
    },
    {
     "name": "stderr",
     "output_type": "stream",
     "text": [
      " 99% (433 of 434) |###################### | Elapsed Time: 0:01:36 ETA:  0:00:00"
     ]
    },
    {
     "name": "stdout",
     "output_type": "stream",
     "text": [
      "Importing 'LGR' with 922 videos into the database.\n"
     ]
    },
    {
     "name": "stderr",
     "output_type": "stream",
     "text": [
      " 99% (921 of 922) |###################### | Elapsed Time: 0:03:18 ETA:  0:00:00"
     ]
    },
    {
     "name": "stdout",
     "output_type": "stream",
     "text": [
      "Importing 'LeeandLie' with 163 videos into the database.\n"
     ]
    },
    {
     "name": "stderr",
     "output_type": "stream",
     "text": [
      " 99% (162 of 163) |###################### | Elapsed Time: 0:00:33 ETA:  0:00:00"
     ]
    },
    {
     "name": "stdout",
     "output_type": "stream",
     "text": [
      "Importing 'LetsPlay' with 1917 videos into the database.\n"
     ]
    },
    {
     "name": "stderr",
     "output_type": "stream",
     "text": [
      " 99% (1916 of 1917) |#################### | Elapsed Time: 0:06:37 ETA:  0:00:00"
     ]
    },
    {
     "name": "stdout",
     "output_type": "stream",
     "text": [
      "Importing 'Lindsey Stirling' with 104 videos into the database.\n"
     ]
    },
    {
     "name": "stderr",
     "output_type": "stream",
     "text": [
      " 99% (103 of 104) |###################### | Elapsed Time: 0:00:20 ETA:  0:00:00"
     ]
    },
    {
     "name": "stdout",
     "output_type": "stream",
     "text": [
      "Importing 'Lizz Robinett' with 200 videos into the database.\n"
     ]
    },
    {
     "name": "stderr",
     "output_type": "stream",
     "text": [
      " 99% (199 of 200) |###################### | Elapsed Time: 0:00:43 ETA:  0:00:00"
     ]
    },
    {
     "name": "stdout",
     "output_type": "stream",
     "text": [
      "Importing 'Many A True Nerd' with 2000 videos into the database.\n"
     ]
    },
    {
     "name": "stderr",
     "output_type": "stream",
     "text": [
      " 99% (1999 of 2000) |#################### | Elapsed Time: 0:07:10 ETA:  0:00:00"
     ]
    },
    {
     "name": "stdout",
     "output_type": "stream",
     "text": [
      "Importing 'Mark Brown' with 85 videos into the database.\n"
     ]
    },
    {
     "name": "stderr",
     "output_type": "stream",
     "text": [
      " 98% (84 of 85) |######################## | Elapsed Time: 0:00:16 ETA:  0:00:00"
     ]
    },
    {
     "name": "stdout",
     "output_type": "stream",
     "text": [
      "Importing 'Matthewmatosis' with 49 videos into the database.\n"
     ]
    },
    {
     "name": "stderr",
     "output_type": "stream",
     "text": [
      " 97% (48 of 49) |######################## | Elapsed Time: 0:00:08 ETA:  0:00:00"
     ]
    },
    {
     "name": "stdout",
     "output_type": "stream",
     "text": [
      "Importing 'MisterCaption' with 28 videos into the database.\n"
     ]
    },
    {
     "name": "stderr",
     "output_type": "stream",
     "text": [
      " 96% (27 of 28) |######################## | Elapsed Time: 0:00:05 ETA:  0:00:00"
     ]
    },
    {
     "name": "stdout",
     "output_type": "stream",
     "text": [
      "Importing 'Mother's Basement' with 195 videos into the database.\n"
     ]
    },
    {
     "name": "stderr",
     "output_type": "stream",
     "text": [
      " 99% (194 of 195) |###################### | Elapsed Time: 0:00:38 ETA:  0:00:00"
     ]
    },
    {
     "name": "stdout",
     "output_type": "stream",
     "text": [
      "Importing 'MrBtongue' with 37 videos into the database.\n"
     ]
    },
    {
     "name": "stderr",
     "output_type": "stream",
     "text": [
      " 97% (36 of 37) |######################## | Elapsed Time: 0:00:07 ETA:  0:00:00"
     ]
    },
    {
     "name": "stdout",
     "output_type": "stream",
     "text": [
      "Importing 'Nintendo Unity' with 603 videos into the database.\n"
     ]
    },
    {
     "name": "stderr",
     "output_type": "stream",
     "text": [
      " 99% (602 of 603) |###################### | Elapsed Time: 0:02:15 ETA:  0:00:00"
     ]
    },
    {
     "name": "stdout",
     "output_type": "stream",
     "text": [
      "Importing 'Noclip' with 56 videos into the database.\n"
     ]
    },
    {
     "name": "stderr",
     "output_type": "stream",
     "text": [
      " 98% (55 of 56) |######################## | Elapsed Time: 0:00:10 ETA:  0:00:00"
     ]
    },
    {
     "name": "stdout",
     "output_type": "stream",
     "text": [
      "Importing 'Numberphile' with 463 videos into the database.\n"
     ]
    },
    {
     "name": "stderr",
     "output_type": "stream",
     "text": [
      " 99% (462 of 463) |###################### | Elapsed Time: 0:01:32 ETA:  0:00:00"
     ]
    },
    {
     "name": "stdout",
     "output_type": "stream",
     "text": [
      "Importing 'Oldtech81' with 174 videos into the database.\n"
     ]
    },
    {
     "name": "stderr",
     "output_type": "stream",
     "text": [
      " 99% (173 of 174) |###################### | Elapsed Time: 0:00:38 ETA:  0:00:00"
     ]
    },
    {
     "name": "stdout",
     "output_type": "stream",
     "text": [
      "Importing 'Raycevick' with 34 videos into the database.\n"
     ]
    },
    {
     "name": "stderr",
     "output_type": "stream",
     "text": [
      " 97% (33 of 34) |######################## | Elapsed Time: 0:00:07 ETA:  0:00:00"
     ]
    },
    {
     "name": "stdout",
     "output_type": "stream",
     "text": [
      "Importing 'RealLifeLore' with 80 videos into the database.\n"
     ]
    },
    {
     "name": "stderr",
     "output_type": "stream",
     "text": [
      " 98% (79 of 80) |######################## | Elapsed Time: 0:00:15 ETA:  0:00:00"
     ]
    },
    {
     "name": "stdout",
     "output_type": "stream",
     "text": [
      "Importing 'Rooster Teeth' with 7698 videos into the database.\n"
     ]
    },
    {
     "name": "stderr",
     "output_type": "stream",
     "text": [
      " 99% (7697 of 7698) |#################### | Elapsed Time: 0:28:40 ETA:  0:00:00"
     ]
    },
    {
     "name": "stdout",
     "output_type": "stream",
     "text": [
      "Importing 'RoosterTeethAnimeDub' with 14 videos into the database.\n"
     ]
    },
    {
     "name": "stderr",
     "output_type": "stream",
     "text": [
      " 92% (13 of 14) |#######################  | Elapsed Time: 0:00:02 ETA:  0:00:00"
     ]
    },
    {
     "name": "stdout",
     "output_type": "stream",
     "text": [
      "Importing 'Shesez' with 180 videos into the database.\n"
     ]
    },
    {
     "name": "stderr",
     "output_type": "stream",
     "text": [
      " 99% (179 of 180) |###################### | Elapsed Time: 0:00:36 ETA:  0:00:00"
     ]
    },
    {
     "name": "stdout",
     "output_type": "stream",
     "text": [
      "Importing 'SovietWomble' with 166 videos into the database.\n"
     ]
    },
    {
     "name": "stderr",
     "output_type": "stream",
     "text": [
      " 99% (165 of 166) |###################### | Elapsed Time: 0:00:32 ETA:  0:00:00"
     ]
    },
    {
     "name": "stdout",
     "output_type": "stream",
     "text": [
      "Importing 'StoneMountain64' with 1449 videos into the database.\n"
     ]
    },
    {
     "name": "stderr",
     "output_type": "stream",
     "text": [
      " 99% (1448 of 1449) |#################### | Elapsed Time: 0:05:48 ETA:  0:00:00"
     ]
    },
    {
     "name": "stdout",
     "output_type": "stream",
     "text": [
      "Importing 'Sugar Pine 7' with 207 videos into the database.\n"
     ]
    },
    {
     "name": "stderr",
     "output_type": "stream",
     "text": [
      " 99% (206 of 207) |###################### | Elapsed Time: 0:00:40 ETA:  0:00:00"
     ]
    },
    {
     "name": "stdout",
     "output_type": "stream",
     "text": [
      "Importing 'Summoning Salt' with 37 videos into the database.\n"
     ]
    },
    {
     "name": "stderr",
     "output_type": "stream",
     "text": [
      " 97% (36 of 37) |######################## | Elapsed Time: 0:00:06 ETA:  0:00:00"
     ]
    },
    {
     "name": "stdout",
     "output_type": "stream",
     "text": [
      "Importing 'TED' with 2617 videos into the database.\n"
     ]
    },
    {
     "name": "stderr",
     "output_type": "stream",
     "text": [
      " 99% (2616 of 2617) |#################### | Elapsed Time: 0:09:16 ETA:  0:00:00"
     ]
    },
    {
     "name": "stdout",
     "output_type": "stream",
     "text": [
      "Importing 'Terrible Writing Advice' with 28 videos into the database.\n"
     ]
    },
    {
     "name": "stderr",
     "output_type": "stream",
     "text": [
      " 96% (27 of 28) |######################## | Elapsed Time: 0:00:05 ETA:  0:00:00"
     ]
    },
    {
     "name": "stdout",
     "output_type": "stream",
     "text": [
      "Importing 'The 8-Bit Guy' with 176 videos into the database.\n"
     ]
    },
    {
     "name": "stderr",
     "output_type": "stream",
     "text": [
      " 99% (175 of 176) |###################### | Elapsed Time: 0:00:37 ETA:  0:00:00"
     ]
    },
    {
     "name": "stdout",
     "output_type": "stream",
     "text": [
      "Importing 'The Ben Heck Show' with 395 videos into the database.\n"
     ]
    },
    {
     "name": "stderr",
     "output_type": "stream",
     "text": [
      " 99% (394 of 395) |###################### | Elapsed Time: 0:01:23 ETA:  0:00:00"
     ]
    },
    {
     "name": "stdout",
     "output_type": "stream",
     "text": [
      "Importing 'The Know' with 3360 videos into the database.\n"
     ]
    },
    {
     "name": "stderr",
     "output_type": "stream",
     "text": [
      " 99% (3359 of 3360) |#################### | Elapsed Time: 0:12:16 ETA:  0:00:00"
     ]
    },
    {
     "name": "stdout",
     "output_type": "stream",
     "text": [
      "Importing 'The Pro Crastinators' with 230 videos into the database.\n"
     ]
    },
    {
     "name": "stderr",
     "output_type": "stream",
     "text": [
      " 99% (229 of 230) |###################### | Elapsed Time: 0:00:49 ETA:  0:00:00"
     ]
    },
    {
     "name": "stdout",
     "output_type": "stream",
     "text": [
      "Importing 'The Synthetic Orchestra' with 512 videos into the database.\n"
     ]
    },
    {
     "name": "stderr",
     "output_type": "stream",
     "text": [
      " 99% (512 of 513) |###################### | Elapsed Time: 0:01:51 ETA:  0:00:00"
     ]
    },
    {
     "name": "stdout",
     "output_type": "stream",
     "text": [
      "Importing 'The Whitest Kids U'Know' with 491 videos into the database.\n"
     ]
    },
    {
     "name": "stderr",
     "output_type": "stream",
     "text": [
      " 99% (490 of 491) |###################### | Elapsed Time: 0:01:36 ETA:  0:00:00"
     ]
    },
    {
     "name": "stdout",
     "output_type": "stream",
     "text": [
      "Importing 'TheDavoo' with 55 videos into the database.\n"
     ]
    },
    {
     "name": "stderr",
     "output_type": "stream",
     "text": [
      " 98% (54 of 55) |######################## | Elapsed Time: 0:00:12 ETA:  0:00:00"
     ]
    },
    {
     "name": "stdout",
     "output_type": "stream",
     "text": [
      "Importing 'ThePedanticRomantic' with 81 videos into the database.\n"
     ]
    },
    {
     "name": "stderr",
     "output_type": "stream",
     "text": [
      " 98% (80 of 81) |######################## | Elapsed Time: 0:00:18 ETA:  0:00:00"
     ]
    },
    {
     "name": "stdout",
     "output_type": "stream",
     "text": [
      "Importing 'Unseen64: an Archive for Beta & Cancelled Games' with 520 videos into the database.\n"
     ]
    },
    {
     "name": "stderr",
     "output_type": "stream",
     "text": [
      " 99% (519 of 520) |###################### | Elapsed Time: 0:01:51 ETA:  0:00:00"
     ]
    },
    {
     "name": "stdout",
     "output_type": "stream",
     "text": [
      "Importing 'You Suck At Cooking' with 72 videos into the database.\n"
     ]
    },
    {
     "name": "stderr",
     "output_type": "stream",
     "text": [
      " 98% (71 of 72) |######################## | Elapsed Time: 0:00:14 ETA:  0:00:00"
     ]
    },
    {
     "name": "stdout",
     "output_type": "stream",
     "text": [
      "Importing 'Zepherus' with 76 videos into the database.\n"
     ]
    },
    {
     "name": "stderr",
     "output_type": "stream",
     "text": [
      " 98% (75 of 76) |######################## | Elapsed Time: 0:00:17 ETA:  0:00:00"
     ]
    },
    {
     "name": "stdout",
     "output_type": "stream",
     "text": [
      "Importing 'akidearest' with 326 videos into the database.\n"
     ]
    },
    {
     "name": "stderr",
     "output_type": "stream",
     "text": [
      " 99% (325 of 326) |###################### | Elapsed Time: 0:01:05 ETA:  0:00:00"
     ]
    },
    {
     "name": "stdout",
     "output_type": "stream",
     "text": [
      "Importing 'brain4breakfast' with 8 videos into the database.\n"
     ]
    },
    {
     "name": "stderr",
     "output_type": "stream",
     "text": [
      " 87% (7 of 8) |#######################    | Elapsed Time: 0:00:01 ETA:  0:00:00"
     ]
    },
    {
     "name": "stdout",
     "output_type": "stream",
     "text": [
      "Importing 'consumer' with 478 videos into the database.\n"
     ]
    },
    {
     "name": "stderr",
     "output_type": "stream",
     "text": [
      " 99% (477 of 478) |###################### | Elapsed Time: 0:01:33 ETA:  0:00:00"
     ]
    },
    {
     "name": "stdout",
     "output_type": "stream",
     "text": [
      "Importing 'danooct1' with 633 videos into the database.\n"
     ]
    },
    {
     "name": "stderr",
     "output_type": "stream",
     "text": [
      " 99% (632 of 633) |###################### | Elapsed Time: 0:02:16 ETA:  0:00:00"
     ]
    },
    {
     "name": "stdout",
     "output_type": "stream",
     "text": [
      "Importing 'direwolf20' with 2909 videos into the database.\n"
     ]
    },
    {
     "name": "stderr",
     "output_type": "stream",
     "text": [
      " 99% (2908 of 2909) |#################### | Elapsed Time: 0:10:23 ETA:  0:00:00"
     ]
    },
    {
     "name": "stdout",
     "output_type": "stream",
     "text": [
      "Importing 'exurb1a' with 61 videos into the database.\n"
     ]
    },
    {
     "name": "stderr",
     "output_type": "stream",
     "text": [
      " 98% (60 of 61) |######################## | Elapsed Time: 0:00:12 ETA:  0:00:00"
     ]
    },
    {
     "name": "stdout",
     "output_type": "stream",
     "text": [
      "Importing 'my roommate the' with 69 videos into the database.\n"
     ]
    },
    {
     "name": "stderr",
     "output_type": "stream",
     "text": [
      " 98% (68 of 69) |######################## | Elapsed Time: 0:00:14 ETA:  0:00:00"
     ]
    },
    {
     "name": "stdout",
     "output_type": "stream",
     "text": [
      "Importing 'pannenkoek2012' with 392 videos into the database.\n"
     ]
    },
    {
     "name": "stderr",
     "output_type": "stream",
     "text": [
      " 99% (391 of 392) |###################### | Elapsed Time: 0:01:26 ETA:  0:00:00"
     ]
    },
    {
     "name": "stdout",
     "output_type": "stream",
     "text": [
      "Importing 'penguinz0' with 1234 videos into the database.\n"
     ]
    },
    {
     "name": "stderr",
     "output_type": "stream",
     "text": [
      " 99% (1233 of 1234) |#################### | Elapsed Time: 0:04:11 ETA:  0:00:00"
     ]
    },
    {
     "name": "stdout",
     "output_type": "stream",
     "text": [
      "Importing 'thebrainscoop' with 188 videos into the database.\n"
     ]
    },
    {
     "name": "stderr",
     "output_type": "stream",
     "text": [
      " 99% (187 of 188) |###################### | Elapsed Time: 0:00:38 ETA:  0:00:00"
     ]
    },
    {
     "name": "stdout",
     "output_type": "stream",
     "text": [
      "Importing 'thelonelyisland' with 119 videos into the database.\n"
     ]
    },
    {
     "name": "stderr",
     "output_type": "stream",
     "text": [
      " 99% (118 of 119) |###################### | Elapsed Time: 0:00:22 ETA:  0:00:00"
     ]
    },
    {
     "name": "stdout",
     "output_type": "stream",
     "text": [
      "Importing 'videogamedunkey' with 577 videos into the database.\n"
     ]
    },
    {
     "name": "stderr",
     "output_type": "stream",
     "text": [
      " 99% (576 of 577) |###################### | Elapsed Time: 0:01:52 ETA:  0:00:00"
     ]
    },
    {
     "name": "stdout",
     "output_type": "stream",
     "text": [
      "Importing '❀ rachie/れいち ❀' with 111 videos into the database.\n"
     ]
    },
    {
     "name": "stderr",
     "output_type": "stream",
     "text": [
      " 99% (110 of 111) |###################### | Elapsed Time: 0:00:22 ETA:  0:00:00"
     ]
    }
   ],
   "source": [
    "\n",
    "subscriptions = github.youtube_subscriptions\n",
    "youtubedb.importChannels([v for k,v in sorted(subscriptions.items())])"
   ]
  },
  {
   "cell_type": "code",
   "execution_count": null,
   "metadata": {
    "ExecuteTime": {
     "end_time": "2018-02-26T05:18:14.310093Z",
     "start_time": "2018-02-26T05:18:13.492038Z"
    },
    "scrolled": false
   },
   "outputs": [],
   "source": [
    "youtubedb.importChannel(killian)\n",
    "print(\"Finished!\")"
   ]
  },
  {
   "cell_type": "code",
   "execution_count": null,
   "metadata": {},
   "outputs": [],
   "source": [
    "pprint(vs.items[0].content_details)"
   ]
  },
  {
   "cell_type": "code",
   "execution_count": null,
   "metadata": {},
   "outputs": [],
   "source": [
    "print(PlaylistItemResource(vs.items[0].response))"
   ]
  },
  {
   "cell_type": "code",
   "execution_count": null,
   "metadata": {
    "collapsed": true
   },
   "outputs": [],
   "source": []
  }
 ],
 "metadata": {
  "kernelspec": {
   "display_name": "Python 3",
   "language": "python",
   "name": "python3"
  },
  "language_info": {
   "codemirror_mode": {
    "name": "ipython",
    "version": 3
   },
   "file_extension": ".py",
   "mimetype": "text/x-python",
   "name": "python",
   "nbconvert_exporter": "python",
   "pygments_lexer": "ipython3",
   "version": "3.6.3"
  }
 },
 "nbformat": 4,
 "nbformat_minor": 2
}
