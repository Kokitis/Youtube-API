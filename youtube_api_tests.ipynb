{
 "cells": [
  {
   "cell_type": "code",
   "execution_count": 1,
   "metadata": {
    "ExecuteTime": {
     "end_time": "2018-02-08T04:59:52.045325Z",
     "start_time": "2018-02-08T04:59:51.200727Z"
    }
   },
   "outputs": [
    {
     "name": "stdout",
     "output_type": "stream",
     "text": [
      "Finished!\n"
     ]
    }
   ],
   "source": [
    "from package import *\n",
    "\n",
    "import requests\n",
    "from pprint import pprint\n",
    "from functools import partial\n",
    "import pandas\n",
    "import matplotlib.pyplot as plt\n",
    "import os\n",
    "import sys\n",
    "\n",
    "github_folder = os.path.join(os.getenv('USERPROFILE'), 'Documents', 'Github', 'python-youtube-api')\n",
    "sys.path.append(github_folder)\n",
    "\n",
    "pprint = partial(pprint, width = 200)\n",
    "\n",
    "#youtube = YouTubeDatabase(github.youtube_api_key, 'youtube_database')\n",
    "killian = \"UCjdQaSJCYS4o2eG93MvIwqg\"\n",
    "test_video = \"836Lv_swaCk\"\n",
    "roosterteeth = 'UCzH3iADRIq1IJlIXjfNgTpA'\n",
    "vs_playlist = \"PLTur7oukosPH7Kvex9-rUiZgVIVGt6C--\"\n",
    "youtube = YouTube(github.youtube_api_key)\n",
    "print(\"Finished!\")\n"
   ]
  },
  {
   "cell_type": "code",
   "execution_count": 2,
   "metadata": {
    "ExecuteTime": {
     "end_time": "2018-02-08T04:59:54.588630Z",
     "start_time": "2018-02-08T04:59:53.074056Z"
    }
   },
   "outputs": [
    {
     "name": "stdout",
     "output_type": "stream",
     "text": [
      "ListResource('\"_gJQceDMxJ8gP-8T2HLXUoURK8c/qRCTIuJ2Ffc1UM83vbYqEB8dSxI\"', 86)\n"
     ]
    }
   ],
   "source": [
    "funhaus_id = \"UCboMX_UNgaPBsUOIgasn3-Q\"\n",
    "vs = youtube.getChannelItems(killian)\n",
    "vids = youtube.getVideos(vs.items)\n",
    "print(vs)"
   ]
  },
  {
   "cell_type": "code",
   "execution_count": 3,
   "metadata": {},
   "outputs": [
    {
     "name": "stdout",
     "output_type": "stream",
     "text": [
      "ListResource('\"_gJQceDMxJ8gP-8T2HLXUoURK8c/qRCTIuJ2Ffc1UM83vbYqEB8dSxI\"', 86)\n",
      "itemCount:  86\n",
      "\t PlaylistItemResource('UUjdQaSJCYS4o2eG93MvIwqg', 'Kilian Experience', 'The Extremely Overpowered Dwarf')\n",
      "\t PlaylistItemResource('UUjdQaSJCYS4o2eG93MvIwqg', 'Kilian Experience', 'Kilians Game Of The Year 2017')\n",
      "\t PlaylistItemResource('UUjdQaSJCYS4o2eG93MvIwqg', 'Kilian Experience', 'Garbage Guide To Pokemon Platinum')\n",
      "\t PlaylistItemResource('UUjdQaSJCYS4o2eG93MvIwqg', 'Kilian Experience', 'Is Shadow The Hedgehog The Best Game Ever?')\n",
      "\t PlaylistItemResource('UUjdQaSJCYS4o2eG93MvIwqg', 'Kilian Experience', 'Greatest Europa Universalis 4 Challenge')\n",
      "\t PlaylistItemResource('UUjdQaSJCYS4o2eG93MvIwqg', 'Kilian Experience', 'Dumbest Fortnite Battle Royale Player')\n",
      "\t PlaylistItemResource('UUjdQaSJCYS4o2eG93MvIwqg', 'Kilian Experience', 'Garbage Retrospective Of Nintendo Entertainment System')\n",
      "\t PlaylistItemResource('UUjdQaSJCYS4o2eG93MvIwqg', 'Kilian Experience', 'The Most Powerful Orc')\n",
      "\t PlaylistItemResource('UUjdQaSJCYS4o2eG93MvIwqg', 'Kilian Experience', 'The Worst Games Of All Time')\n",
      "\t PlaylistItemResource('UUjdQaSJCYS4o2eG93MvIwqg', 'Kilian Experience', 'The Most Secure Prison In The World')\n",
      "\t PlaylistItemResource('UUjdQaSJCYS4o2eG93MvIwqg', 'Kilian Experience', 'Garbage Guide To PUBG - How To Win Every Game')\n",
      "\t PlaylistItemResource('UUjdQaSJCYS4o2eG93MvIwqg', 'Kilian Experience', 'This Is Archaon The Everchosen - Total War')\n",
      "\t PlaylistItemResource('UUjdQaSJCYS4o2eG93MvIwqg', 'Kilian Experience', '300K QnA COD Commentary')\n",
      "\t PlaylistItemResource('UUjdQaSJCYS4o2eG93MvIwqg', 'Kilian Experience', 'Garbage Guide To Zelda Wind Waker Story')\n",
      "\t PlaylistItemResource('UUjdQaSJCYS4o2eG93MvIwqg', 'Kilian Experience', 'World's Best Smash Bros Player')\n",
      "\t PlaylistItemResource('UUjdQaSJCYS4o2eG93MvIwqg', 'Kilian Experience', 'Hardest Besiege Levels')\n",
      "\t PlaylistItemResource('UUjdQaSJCYS4o2eG93MvIwqg', 'Kilian Experience', 'E3 2017 Summed Up')\n",
      "\t PlaylistItemResource('UUjdQaSJCYS4o2eG93MvIwqg', 'Kilian Experience', 'Why Video Games Should Be Banned')\n",
      "\t PlaylistItemResource('UUjdQaSJCYS4o2eG93MvIwqg', 'Kilian Experience', 'Garbage Guide To Subnautica - The Biggest Monster')\n",
      "\t PlaylistItemResource('UUjdQaSJCYS4o2eG93MvIwqg', 'Kilian Experience', 'Best Theme Park Ever')\n",
      "\t PlaylistItemResource('UUjdQaSJCYS4o2eG93MvIwqg', 'Kilian Experience', 'Garbage Guide To Mass Effect Story')\n",
      "\t PlaylistItemResource('UUjdQaSJCYS4o2eG93MvIwqg', 'Kilian Experience', 'World's Slowest Speedrun')\n",
      "\t PlaylistItemResource('UUjdQaSJCYS4o2eG93MvIwqg', 'Kilian Experience', 'Greatest Hearts Of Iron 4 Challenge')\n",
      "\t PlaylistItemResource('UUjdQaSJCYS4o2eG93MvIwqg', 'Kilian Experience', 'Garbage Guide To Resident Evil 7 Story')\n",
      "\t PlaylistItemResource('UUjdQaSJCYS4o2eG93MvIwqg', 'Kilian Experience', 'How To Hack Overwatch')\n",
      "\t PlaylistItemResource('UUjdQaSJCYS4o2eG93MvIwqg', 'Kilian Experience', 'Crashing Game Of Thrones')\n",
      "\t PlaylistItemResource('UUjdQaSJCYS4o2eG93MvIwqg', 'Kilian Experience', 'Kilians Game Of The Year 2016')\n",
      "\t PlaylistItemResource('UUjdQaSJCYS4o2eG93MvIwqg', 'Kilian Experience', 'Garbage Guide To Pokemon Fire Red')\n",
      "\t PlaylistItemResource('UUjdQaSJCYS4o2eG93MvIwqg', 'Kilian Experience', 'The Worst City Ever')\n",
      "\t PlaylistItemResource('UUjdQaSJCYS4o2eG93MvIwqg', 'Kilian Experience', 'The Problems With Battlefield 1')\n",
      "\t PlaylistItemResource('UUjdQaSJCYS4o2eG93MvIwqg', 'Kilian Experience', 'A Garbage Retrospective Of Halo')\n",
      "\t PlaylistItemResource('UUjdQaSJCYS4o2eG93MvIwqg', 'Kilian Experience', 'How Not To Fix The Current Consoles')\n",
      "\t PlaylistItemResource('UUjdQaSJCYS4o2eG93MvIwqg', 'Kilian Experience', 'Kinda Confusing And Unfinished Overwatch Video')\n",
      "\t PlaylistItemResource('UUjdQaSJCYS4o2eG93MvIwqg', 'Kilian Experience', 'Garbage Guide To World Of Warcraft Legion')\n",
      "\t PlaylistItemResource('UUjdQaSJCYS4o2eG93MvIwqg', 'Kilian Experience', 'How To Beat Medium Bots - CS:GO')\n",
      "\t PlaylistItemResource('UUjdQaSJCYS4o2eG93MvIwqg', 'Kilian Experience', 'A Ridiculous Recap Of Deus Ex Human Revolution')\n",
      "\t PlaylistItemResource('UUjdQaSJCYS4o2eG93MvIwqg', 'Kilian Experience', 'No Man's Sky's Super Duper Secret')\n",
      "\t PlaylistItemResource('UUjdQaSJCYS4o2eG93MvIwqg', 'Kilian Experience', '100K Subscribers Q N A')\n",
      "\t PlaylistItemResource('UUjdQaSJCYS4o2eG93MvIwqg', 'Kilian Experience', 'Ridiculous Recap Of Fallout 4 Lore and Story')\n",
      "\t PlaylistItemResource('UUjdQaSJCYS4o2eG93MvIwqg', 'Kilian Experience', 'Pokemon Go - The Best Team')\n",
      "\t PlaylistItemResource('UUjdQaSJCYS4o2eG93MvIwqg', 'Kilian Experience', 'This Is Henry - Total War')\n",
      "\t PlaylistItemResource('UUjdQaSJCYS4o2eG93MvIwqg', 'Kilian Experience', 'Spyro 3 Year Of The Dragon A Garbage Review')\n",
      "\t PlaylistItemResource('UUjdQaSJCYS4o2eG93MvIwqg', 'Kilian Experience', 'E3 2016 Summed Up')\n",
      "\t PlaylistItemResource('UUjdQaSJCYS4o2eG93MvIwqg', 'Kilian Experience', 'A Garbage Guide To Overwatch Heroes')\n",
      "\t PlaylistItemResource('UUjdQaSJCYS4o2eG93MvIwqg', 'Kilian Experience', 'Greatest Crusader Kings 2 Challenge')\n",
      "\t PlaylistItemResource('UUjdQaSJCYS4o2eG93MvIwqg', 'Kilian Experience', 'Super Mario Sunshine - A Garbage Review')\n",
      "\t PlaylistItemResource('UUjdQaSJCYS4o2eG93MvIwqg', 'Kilian Experience', 'Dark Souls 3 - Ridiculous Recap Of Story And Lore')\n",
      "\t PlaylistItemResource('UUjdQaSJCYS4o2eG93MvIwqg', 'Kilian Experience', 'Kilians Patreon Announcement')\n",
      "\t PlaylistItemResource('UUjdQaSJCYS4o2eG93MvIwqg', 'Kilian Experience', 'KSP - How To Land On The Mun And Also Turn Your Enemies Into Rotting Corpses')\n",
      "\t PlaylistItemResource('UUjdQaSJCYS4o2eG93MvIwqg', 'Kilian Experience', 'A Garbage Guide To Old School Runescape')\n",
      "\t PlaylistItemResource('UUjdQaSJCYS4o2eG93MvIwqg', 'Kilian Experience', 'CS:GO - How To Beat Easy Bots')\n",
      "\t PlaylistItemResource('UUjdQaSJCYS4o2eG93MvIwqg', 'Kilian Experience', 'Stardew Valley - A Garbage Guide')\n",
      "\t PlaylistItemResource('UUjdQaSJCYS4o2eG93MvIwqg', 'Kilian Experience', 'How Not To Save The Video Game Industry')\n",
      "\t PlaylistItemResource('UUjdQaSJCYS4o2eG93MvIwqg', 'Kilian Experience', 'A Ridiculous Recap Of Amnesia The Dark Descent')\n",
      "\t PlaylistItemResource('UUjdQaSJCYS4o2eG93MvIwqg', 'Kilian Experience', 'Skyrim Has Fake Cut Content')\n",
      "\t PlaylistItemResource('UUjdQaSJCYS4o2eG93MvIwqg', 'Kilian Experience', 'A Ridiculous Recap Of Chrono Trigger')\n",
      "\t PlaylistItemResource('UUjdQaSJCYS4o2eG93MvIwqg', 'Kilian Experience', 'Worst Civilization 5 Deity Strategy')\n",
      "\t PlaylistItemResource('UUjdQaSJCYS4o2eG93MvIwqg', 'Kilian Experience', 'Garbage Review Of The Game Year 2015')\n",
      "\t PlaylistItemResource('UUjdQaSJCYS4o2eG93MvIwqg', 'Kilian Experience', 'A Weak 10K Subscribers Q&A Video')\n",
      "\t PlaylistItemResource('UUjdQaSJCYS4o2eG93MvIwqg', 'Kilian Experience', 'A Ridiculous Recap Of Pokemon Ruby')\n",
      "\t PlaylistItemResource('UUjdQaSJCYS4o2eG93MvIwqg', 'Kilian Experience', 'A Garbage Retrospective Of Warcraft')\n",
      "\t PlaylistItemResource('UUjdQaSJCYS4o2eG93MvIwqg', 'Kilian Experience', 'Fallout 4 Lore and Story Not Explained [Parody]')\n",
      "\t PlaylistItemResource('UUjdQaSJCYS4o2eG93MvIwqg', 'Kilian Experience', 'A Ridiculous Recap Of Fallout New Vegas Lore and Story')\n",
      "\t PlaylistItemResource('UUjdQaSJCYS4o2eG93MvIwqg', 'Kilian Experience', 'Why you should pre-order every game')\n",
      "\t PlaylistItemResource('UUjdQaSJCYS4o2eG93MvIwqg', 'Kilian Experience', 'A Ridiculous Recap Of Assassin's Creed 2 Ezio's story')\n",
      "\t PlaylistItemResource('UUjdQaSJCYS4o2eG93MvIwqg', 'Kilian Experience', 'A Ridiculous Recap Of Half Life')\n",
      "\t PlaylistItemResource('UUjdQaSJCYS4o2eG93MvIwqg', 'Kilian Experience', 'Close Enough Lore - The Story Before Destiny Explained [Parody]')\n",
      "\t PlaylistItemResource('UUjdQaSJCYS4o2eG93MvIwqg', 'Kilian Experience', 'Close Enough Lore - The Story Before Dark Souls 2 [Parody]')\n",
      "\t PlaylistItemResource('UUjdQaSJCYS4o2eG93MvIwqg', 'Kilian Experience', 'A Ridiculous Recap Of Metal Gear Solid 3 Snake Eaters Story [Parody]')\n",
      "\t PlaylistItemResource('UUjdQaSJCYS4o2eG93MvIwqg', 'Kilian Experience', 'Close Enough Lore - The Story Before Skyrim [Parody]')\n",
      "\t PlaylistItemResource('UUjdQaSJCYS4o2eG93MvIwqg', 'Kilian Experience', 'A Ridiculous Recap Of Dark Souls Lore and Story')\n",
      "\t PlaylistItemResource('UUjdQaSJCYS4o2eG93MvIwqg', 'Kilian Experience', 'A Ridiculous Recap Of Fallout 3 Lore and Story')\n",
      "\t PlaylistItemResource('UUjdQaSJCYS4o2eG93MvIwqg', 'Kilian Experience', 'A Ridiculous Recap/Review Of The Legend Zelda Majoras Mask')\n",
      "\t PlaylistItemResource('UUjdQaSJCYS4o2eG93MvIwqg', 'Kilian Experience', 'Top 5 Legend Of Zelda Facts I Totally Didn't Make Up 10 Minutes Ago')\n",
      "\t PlaylistItemResource('UUjdQaSJCYS4o2eG93MvIwqg', 'Kilian Experience', 'A Ridiculous Recap/Review Of Silent Hill 2')\n",
      "\t PlaylistItemResource('UUjdQaSJCYS4o2eG93MvIwqg', 'Kilian Experience', 'Garbage Review: E3 2015')\n",
      "\t PlaylistItemResource('UUjdQaSJCYS4o2eG93MvIwqg', 'Kilian Experience', 'A Ridiculous Recap Of Dishonored')\n",
      "\t PlaylistItemResource('UUjdQaSJCYS4o2eG93MvIwqg', 'Kilian Experience', 'A Ridiculous Recap Of Dragon Age Origins')\n",
      "\t PlaylistItemResource('UUjdQaSJCYS4o2eG93MvIwqg', 'Kilian Experience', 'A Ridiculous Recap Of Bioshock 1 Story and Lore')\n",
      "\t PlaylistItemResource('UUjdQaSJCYS4o2eG93MvIwqg', 'Kilian Experience', 'Ridiculous Recap Of The First Assassin's Creed Alairs Story [Parody]')\n",
      "\t PlaylistItemResource('UUjdQaSJCYS4o2eG93MvIwqg', 'Kilian Experience', 'Garbage Retro Reviews: Crash Bandicoot 3 Warped - Is it 3 or warped? This review will tell you')\n",
      "\t PlaylistItemResource('UUjdQaSJCYS4o2eG93MvIwqg', 'Kilian Experience', 'Pillars Of Eternity Review – Can a godlike wizard find all the pillars of eternity? No')\n",
      "\t PlaylistItemResource('UUjdQaSJCYS4o2eG93MvIwqg', 'Kilian Experience', 'Garbage Reviews: The Order 1886')\n",
      "\t PlaylistItemResource('UUjdQaSJCYS4o2eG93MvIwqg', 'Kilian Experience', 'Garbage Reviews: Assassin's Creed Rogue - A great pc game or is becoming a templar awful?')\n",
      "\t PlaylistItemResource('UUjdQaSJCYS4o2eG93MvIwqg', 'Kilian Experience', 'Garbage Reviews: Resident Evil Revelations 2 Episode 1 - A Terrible Review')\n",
      "\t PlaylistItemResource('UUjdQaSJCYS4o2eG93MvIwqg', 'Kilian Experience', 'Garbage Reviews: Dragon Age Inquisition a not so serious pc review')\n",
      "ListResource('\"_gJQceDMxJ8gP-8T2HLXUoURK8c/-CYJgtKUAljk6z_LD4PQGcOQunY\"', 86)\n",
      "itemCount:  86\n",
      "\t VideoResource('The Extremely Overpowered Dwarf', 'Kilian Experience')\n",
      "\t VideoResource('Kilians Game Of The Year 2017', 'Kilian Experience')\n",
      "\t VideoResource('Garbage Guide To Pokemon Platinum', 'Kilian Experience')\n",
      "\t VideoResource('Is Shadow The Hedgehog The Best Game Ever?', 'Kilian Experience')\n",
      "\t VideoResource('Greatest Europa Universalis 4 Challenge', 'Kilian Experience')\n",
      "\t VideoResource('Dumbest Fortnite Battle Royale Player', 'Kilian Experience')\n",
      "\t VideoResource('Garbage Retrospective Of Nintendo Entertainment System', 'Kilian Experience')\n",
      "\t VideoResource('The Most Powerful Orc', 'Kilian Experience')\n",
      "\t VideoResource('The Worst Games Of All Time', 'Kilian Experience')\n",
      "\t VideoResource('The Most Secure Prison In The World', 'Kilian Experience')\n",
      "\t VideoResource('Garbage Guide To PUBG - How To Win Every Game', 'Kilian Experience')\n",
      "\t VideoResource('This Is Archaon The Everchosen - Total War', 'Kilian Experience')\n",
      "\t VideoResource('300K QnA COD Commentary', 'Kilian Experience')\n",
      "\t VideoResource('Garbage Guide To Zelda Wind Waker Story', 'Kilian Experience')\n",
      "\t VideoResource('World's Best Smash Bros Player', 'Kilian Experience')\n",
      "\t VideoResource('Hardest Besiege Levels', 'Kilian Experience')\n",
      "\t VideoResource('E3 2017 Summed Up', 'Kilian Experience')\n",
      "\t VideoResource('Why Video Games Should Be Banned', 'Kilian Experience')\n",
      "\t VideoResource('Garbage Guide To Subnautica - The Biggest Monster', 'Kilian Experience')\n",
      "\t VideoResource('Best Theme Park Ever', 'Kilian Experience')\n",
      "\t VideoResource('Garbage Guide To Mass Effect Story', 'Kilian Experience')\n",
      "\t VideoResource('World's Slowest Speedrun', 'Kilian Experience')\n",
      "\t VideoResource('Greatest Hearts Of Iron 4 Challenge', 'Kilian Experience')\n",
      "\t VideoResource('Garbage Guide To Resident Evil 7 Story', 'Kilian Experience')\n",
      "\t VideoResource('How To Hack Overwatch', 'Kilian Experience')\n",
      "\t VideoResource('Crashing Game Of Thrones', 'Kilian Experience')\n",
      "\t VideoResource('Kilians Game Of The Year 2016', 'Kilian Experience')\n",
      "\t VideoResource('Garbage Guide To Pokemon Fire Red', 'Kilian Experience')\n",
      "\t VideoResource('The Worst City Ever', 'Kilian Experience')\n",
      "\t VideoResource('The Problems With Battlefield 1', 'Kilian Experience')\n",
      "\t VideoResource('A Garbage Retrospective Of Halo', 'Kilian Experience')\n",
      "\t VideoResource('How Not To Fix The Current Consoles', 'Kilian Experience')\n",
      "\t VideoResource('Kinda Confusing And Unfinished Overwatch Video', 'Kilian Experience')\n",
      "\t VideoResource('Garbage Guide To World Of Warcraft Legion', 'Kilian Experience')\n",
      "\t VideoResource('How To Beat Medium Bots - CS:GO', 'Kilian Experience')\n",
      "\t VideoResource('A Ridiculous Recap Of Deus Ex Human Revolution', 'Kilian Experience')\n",
      "\t VideoResource('No Man's Sky's Super Duper Secret', 'Kilian Experience')\n",
      "\t VideoResource('100K Subscribers Q N A', 'Kilian Experience')\n",
      "\t VideoResource('Ridiculous Recap Of Fallout 4 Lore and Story', 'Kilian Experience')\n",
      "\t VideoResource('Pokemon Go - The Best Team', 'Kilian Experience')\n",
      "\t VideoResource('This Is Henry - Total War', 'Kilian Experience')\n",
      "\t VideoResource('Spyro 3 Year Of The Dragon A Garbage Review', 'Kilian Experience')\n",
      "\t VideoResource('E3 2016 Summed Up', 'Kilian Experience')\n",
      "\t VideoResource('A Garbage Guide To Overwatch Heroes', 'Kilian Experience')\n",
      "\t VideoResource('Greatest Crusader Kings 2 Challenge', 'Kilian Experience')\n",
      "\t VideoResource('Super Mario Sunshine - A Garbage Review', 'Kilian Experience')\n",
      "\t VideoResource('Dark Souls 3 - Ridiculous Recap Of Story And Lore', 'Kilian Experience')\n",
      "\t VideoResource('Kilians Patreon Announcement', 'Kilian Experience')\n",
      "\t VideoResource('KSP - How To Land On The Mun And Also Turn Your Enemies Into Rotting Corpses', 'Kilian Experience')\n",
      "\t VideoResource('A Garbage Guide To Old School Runescape', 'Kilian Experience')\n",
      "\t VideoResource('CS:GO - How To Beat Easy Bots', 'Kilian Experience')\n",
      "\t VideoResource('Stardew Valley - A Garbage Guide', 'Kilian Experience')\n",
      "\t VideoResource('How Not To Save The Video Game Industry', 'Kilian Experience')\n",
      "\t VideoResource('A Ridiculous Recap Of Amnesia The Dark Descent', 'Kilian Experience')\n",
      "\t VideoResource('Skyrim Has Fake Cut Content', 'Kilian Experience')\n",
      "\t VideoResource('A Ridiculous Recap Of Chrono Trigger', 'Kilian Experience')\n",
      "\t VideoResource('Worst Civilization 5 Deity Strategy', 'Kilian Experience')\n",
      "\t VideoResource('Garbage Review Of The Game Year 2015', 'Kilian Experience')\n",
      "\t VideoResource('A Weak 10K Subscribers Q&A Video', 'Kilian Experience')\n",
      "\t VideoResource('A Ridiculous Recap Of Pokemon Ruby', 'Kilian Experience')\n",
      "\t VideoResource('A Garbage Retrospective Of Warcraft', 'Kilian Experience')\n",
      "\t VideoResource('Fallout 4 Lore and Story Not Explained [Parody]', 'Kilian Experience')\n",
      "\t VideoResource('A Ridiculous Recap Of Fallout New Vegas Lore and Story', 'Kilian Experience')\n",
      "\t VideoResource('Why you should pre-order every game', 'Kilian Experience')\n",
      "\t VideoResource('A Ridiculous Recap Of Assassin's Creed 2 Ezio's story', 'Kilian Experience')\n",
      "\t VideoResource('A Ridiculous Recap Of Half Life', 'Kilian Experience')\n",
      "\t VideoResource('Close Enough Lore - The Story Before Destiny Explained [Parody]', 'Kilian Experience')\n",
      "\t VideoResource('Close Enough Lore - The Story Before Dark Souls 2 [Parody]', 'Kilian Experience')\n",
      "\t VideoResource('A Ridiculous Recap Of Metal Gear Solid 3 Snake Eaters Story [Parody]', 'Kilian Experience')\n",
      "\t VideoResource('Close Enough Lore - The Story Before Skyrim [Parody]', 'Kilian Experience')\n",
      "\t VideoResource('A Ridiculous Recap Of Dark Souls Lore and Story', 'Kilian Experience')\n",
      "\t VideoResource('A Ridiculous Recap Of Fallout 3 Lore and Story', 'Kilian Experience')\n",
      "\t VideoResource('A Ridiculous Recap/Review Of The Legend Zelda Majoras Mask', 'Kilian Experience')\n",
      "\t VideoResource('Top 5 Legend Of Zelda Facts I Totally Didn't Make Up 10 Minutes Ago', 'Kilian Experience')\n",
      "\t VideoResource('A Ridiculous Recap/Review Of Silent Hill 2', 'Kilian Experience')\n",
      "\t VideoResource('Garbage Review: E3 2015', 'Kilian Experience')\n",
      "\t VideoResource('A Ridiculous Recap Of Dishonored', 'Kilian Experience')\n",
      "\t VideoResource('A Ridiculous Recap Of Dragon Age Origins', 'Kilian Experience')\n",
      "\t VideoResource('A Ridiculous Recap Of Bioshock 1 Story and Lore', 'Kilian Experience')\n",
      "\t VideoResource('Ridiculous Recap Of The First Assassin's Creed Alairs Story [Parody]', 'Kilian Experience')\n",
      "\t VideoResource('Garbage Retro Reviews: Crash Bandicoot 3 Warped - Is it 3 or warped? This review will tell you', 'Kilian Experience')\n",
      "\t VideoResource('Pillars Of Eternity Review – Can a godlike wizard find all the pillars of eternity? No', 'Kilian Experience')\n",
      "\t VideoResource('Garbage Reviews: The Order 1886', 'Kilian Experience')\n",
      "\t VideoResource('Garbage Reviews: Assassin's Creed Rogue - A great pc game or is becoming a templar awful?', 'Kilian Experience')\n",
      "\t VideoResource('Garbage Reviews: Resident Evil Revelations 2 Episode 1 - A Terrible Review', 'Kilian Experience')\n",
      "\t VideoResource('Garbage Reviews: Dragon Age Inquisition a not so serious pc review', 'Kilian Experience')\n"
     ]
    }
   ],
   "source": [
    "vs.summary()\n",
    "vids.summary()"
   ]
  },
  {
   "cell_type": "code",
   "execution_count": 4,
   "metadata": {},
   "outputs": [
    {
     "name": "stdout",
     "output_type": "stream",
     "text": [
      "{}\n"
     ]
    }
   ],
   "source": [
    "pprint(vs.items[0].content_details)"
   ]
  },
  {
   "cell_type": "code",
   "execution_count": 6,
   "metadata": {},
   "outputs": [
    {
     "name": "stdout",
     "output_type": "stream",
     "text": [
      "PlaylistItemResource('None', 'None', 'None')\n"
     ]
    }
   ],
   "source": [
    "print(PlaylistItemResource(vs.items[0].response))"
   ]
  },
  {
   "cell_type": "code",
   "execution_count": null,
   "metadata": {},
   "outputs": [],
   "source": []
  }
 ],
 "metadata": {
  "kernelspec": {
   "display_name": "Python 3",
   "language": "python",
   "name": "python3"
  },
  "language_info": {
   "codemirror_mode": {
    "name": "ipython",
    "version": 3
   },
   "file_extension": ".py",
   "mimetype": "text/x-python",
   "name": "python",
   "nbconvert_exporter": "python",
   "pygments_lexer": "ipython3",
   "version": "3.6.3"
  }
 },
 "nbformat": 4,
 "nbformat_minor": 2
}
